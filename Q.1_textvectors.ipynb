{
 "cells": [
  {
   "cell_type": "markdown",
   "id": "ac2eadc7",
   "metadata": {},
   "source": [
    "**Q-1. \n",
    "Imagine you have a dataset where you have different Instagram features like username , Caption , Hashtag , Followers , Time_Since_posted , and likes , now your task is to predict the number of likes and Time Since posted and the rest of the features are your input features.\n",
    "Now you have to build a model which can predict the number of likes and Time Since posted.\n",
    "Dataset - This is the Dataset(https://www.kaggle.com/datasets/rxsraghavagrawal/instagram-reach) You can use this dataset for this question.**\n"
   ]
  },
  {
   "cell_type": "code",
   "execution_count": 1,
   "id": "1b786b9d",
   "metadata": {},
   "outputs": [],
   "source": [
    "import numpy as np\n",
    "import pandas as pd\n",
    "from sklearn.feature_extraction.text import TfidfVectorizer, CountVectorizer\n",
    "import nltk\n",
    "pd.set_option('display.max_rows', None)\n",
    "import warnings\n",
    "warnings.filterwarnings('ignore')"
   ]
  },
  {
   "cell_type": "code",
   "execution_count": 2,
   "id": "6e7c33ef",
   "metadata": {},
   "outputs": [],
   "source": [
    "import seaborn as sns\n",
    "import matplotlib.pyplot as plt\n",
    "%matplotlib inline"
   ]
  },
  {
   "cell_type": "code",
   "execution_count": 3,
   "id": "c3c9c0e5",
   "metadata": {},
   "outputs": [],
   "source": [
    "import re \n",
    "import string\n",
    "import nltk\n",
    "from nltk.corpus import stopwords\n",
    "from nltk.stem.wordnet import WordNetLemmatizer\n",
    "from nltk.stem.porter import PorterStemmer"
   ]
  },
  {
   "cell_type": "code",
   "execution_count": 4,
   "id": "9a3a6b93",
   "metadata": {},
   "outputs": [],
   "source": [
    "df = pd.read_csv('instagram_reach.csv') "
   ]
  },
  {
   "cell_type": "code",
   "execution_count": 5,
   "id": "4b62aa8c",
   "metadata": {},
   "outputs": [],
   "source": [
    "#df"
   ]
  },
  {
   "cell_type": "markdown",
   "id": "d594bc14",
   "metadata": {},
   "source": [
    "## Basic Info "
   ]
  },
  {
   "cell_type": "code",
   "execution_count": 6,
   "id": "e74bb614",
   "metadata": {},
   "outputs": [
    {
     "data": {
      "text/plain": [
       "(100, 8)"
      ]
     },
     "execution_count": 6,
     "metadata": {},
     "output_type": "execute_result"
    }
   ],
   "source": [
    "df.shape"
   ]
  },
  {
   "cell_type": "code",
   "execution_count": 7,
   "id": "e89ca103",
   "metadata": {},
   "outputs": [
    {
     "data": {
      "text/plain": [
       "Index(['Unnamed: 0', 'S.No', 'USERNAME', 'Caption', 'Followers', 'Hashtags',\n",
       "       'Time since posted', 'Likes'],\n",
       "      dtype='object')"
      ]
     },
     "execution_count": 7,
     "metadata": {},
     "output_type": "execute_result"
    }
   ],
   "source": [
    "df.columns"
   ]
  },
  {
   "cell_type": "code",
   "execution_count": 8,
   "id": "5395cb19",
   "metadata": {},
   "outputs": [
    {
     "name": "stdout",
     "output_type": "stream",
     "text": [
      "<class 'pandas.core.frame.DataFrame'>\n",
      "RangeIndex: 100 entries, 0 to 99\n",
      "Data columns (total 8 columns):\n",
      " #   Column             Non-Null Count  Dtype \n",
      "---  ------             --------------  ----- \n",
      " 0   Unnamed: 0         100 non-null    int64 \n",
      " 1   S.No               100 non-null    int64 \n",
      " 2   USERNAME           100 non-null    object\n",
      " 3   Caption            94 non-null     object\n",
      " 4   Followers          100 non-null    int64 \n",
      " 5   Hashtags           100 non-null    object\n",
      " 6   Time since posted  100 non-null    object\n",
      " 7   Likes              100 non-null    int64 \n",
      "dtypes: int64(4), object(4)\n",
      "memory usage: 6.4+ KB\n"
     ]
    }
   ],
   "source": [
    "df.info()"
   ]
  },
  {
   "cell_type": "code",
   "execution_count": 9,
   "id": "23bc5c6e",
   "metadata": {},
   "outputs": [
    {
     "name": "stdout",
     "output_type": "stream",
     "text": [
      "No. of unique values in Unnamed: 0 : 27\n",
      "No. of unique values in S.No : 30\n",
      "No. of unique values in USERNAME : 95\n",
      "No. of unique values in Caption : 94\n",
      "No. of unique values in Followers : 94\n",
      "No. of unique values in Hashtags : 98\n",
      "No. of unique values in Time since posted : 11\n",
      "No. of unique values in Likes : 55\n"
     ]
    }
   ],
   "source": [
    "for i in df.columns: \n",
    "    print(f'No. of unique values in {i} : {len(df[i].value_counts())}')"
   ]
  },
  {
   "cell_type": "code",
   "execution_count": 10,
   "id": "9745fe8c",
   "metadata": {},
   "outputs": [],
   "source": [
    "df['Time since posted'] = df['Time since posted'].apply(lambda z : z.split(\" \")[0])"
   ]
  },
  {
   "cell_type": "code",
   "execution_count": 11,
   "id": "006ef162",
   "metadata": {},
   "outputs": [],
   "source": [
    "df['Time since posted'] = df['Time since posted'].astype(int)"
   ]
  },
  {
   "cell_type": "code",
   "execution_count": 12,
   "id": "708792a5",
   "metadata": {},
   "outputs": [
    {
     "data": {
      "text/html": [
       "<div>\n",
       "<style scoped>\n",
       "    .dataframe tbody tr th:only-of-type {\n",
       "        vertical-align: middle;\n",
       "    }\n",
       "\n",
       "    .dataframe tbody tr th {\n",
       "        vertical-align: top;\n",
       "    }\n",
       "\n",
       "    .dataframe thead th {\n",
       "        text-align: right;\n",
       "    }\n",
       "</style>\n",
       "<table border=\"1\" class=\"dataframe\">\n",
       "  <thead>\n",
       "    <tr style=\"text-align: right;\">\n",
       "      <th></th>\n",
       "      <th>Unnamed: 0</th>\n",
       "      <th>S.No</th>\n",
       "      <th>USERNAME</th>\n",
       "      <th>Caption</th>\n",
       "      <th>Followers</th>\n",
       "      <th>Hashtags</th>\n",
       "      <th>Time since posted</th>\n",
       "      <th>Likes</th>\n",
       "    </tr>\n",
       "  </thead>\n",
       "  <tbody>\n",
       "    <tr>\n",
       "      <th>0</th>\n",
       "      <td>0</td>\n",
       "      <td>1</td>\n",
       "      <td>mikequindazzi</td>\n",
       "      <td>Who are #DataScientist and what do they do? &gt;&gt;...</td>\n",
       "      <td>1600</td>\n",
       "      <td>#MachineLearning #AI #DataAnalytics #DataScien...</td>\n",
       "      <td>11</td>\n",
       "      <td>139</td>\n",
       "    </tr>\n",
       "    <tr>\n",
       "      <th>1</th>\n",
       "      <td>1</td>\n",
       "      <td>2</td>\n",
       "      <td>drgorillapaints</td>\n",
       "      <td>We all know where it’s going. We just have to ...</td>\n",
       "      <td>880</td>\n",
       "      <td>#deck .#mac #macintosh#sayhello #apple #steve...</td>\n",
       "      <td>2</td>\n",
       "      <td>23</td>\n",
       "    </tr>\n",
       "    <tr>\n",
       "      <th>2</th>\n",
       "      <td>2</td>\n",
       "      <td>3</td>\n",
       "      <td>aitrading_official</td>\n",
       "      <td>Alexander Barinov: 4 years as CFO in multinati...</td>\n",
       "      <td>255</td>\n",
       "      <td>#whoiswho #aitrading #ai #aitradingteam#instat...</td>\n",
       "      <td>2</td>\n",
       "      <td>25</td>\n",
       "    </tr>\n",
       "    <tr>\n",
       "      <th>3</th>\n",
       "      <td>3</td>\n",
       "      <td>4</td>\n",
       "      <td>opensourcedworkplace</td>\n",
       "      <td>sfad</td>\n",
       "      <td>340</td>\n",
       "      <td>#iot #cre#workplace #CDO #bigdata #technology#...</td>\n",
       "      <td>3</td>\n",
       "      <td>49</td>\n",
       "    </tr>\n",
       "    <tr>\n",
       "      <th>4</th>\n",
       "      <td>4</td>\n",
       "      <td>5</td>\n",
       "      <td>crea.vision</td>\n",
       "      <td>Ever missed a call while your phone was chargi...</td>\n",
       "      <td>304</td>\n",
       "      <td>#instamachinelearning #instabigdata#instamarke...</td>\n",
       "      <td>3</td>\n",
       "      <td>30</td>\n",
       "    </tr>\n",
       "  </tbody>\n",
       "</table>\n",
       "</div>"
      ],
      "text/plain": [
       "   Unnamed: 0  S.No              USERNAME  \\\n",
       "0           0     1         mikequindazzi   \n",
       "1           1     2       drgorillapaints   \n",
       "2           2     3    aitrading_official   \n",
       "3           3     4  opensourcedworkplace   \n",
       "4           4     5           crea.vision   \n",
       "\n",
       "                                             Caption  Followers  \\\n",
       "0  Who are #DataScientist and what do they do? >>...       1600   \n",
       "1  We all know where it’s going. We just have to ...        880   \n",
       "2  Alexander Barinov: 4 years as CFO in multinati...        255   \n",
       "3                                               sfad        340   \n",
       "4  Ever missed a call while your phone was chargi...        304   \n",
       "\n",
       "                                            Hashtags  Time since posted  Likes  \n",
       "0  #MachineLearning #AI #DataAnalytics #DataScien...                 11    139  \n",
       "1   #deck .#mac #macintosh#sayhello #apple #steve...                  2     23  \n",
       "2  #whoiswho #aitrading #ai #aitradingteam#instat...                  2     25  \n",
       "3  #iot #cre#workplace #CDO #bigdata #technology#...                  3     49  \n",
       "4  #instamachinelearning #instabigdata#instamarke...                  3     30  "
      ]
     },
     "execution_count": 12,
     "metadata": {},
     "output_type": "execute_result"
    }
   ],
   "source": [
    "df.head()"
   ]
  },
  {
   "cell_type": "code",
   "execution_count": 13,
   "id": "04079255",
   "metadata": {},
   "outputs": [
    {
     "data": {
      "text/plain": [
       "<AxesSubplot:xlabel='Time since posted', ylabel='Likes'>"
      ]
     },
     "execution_count": 13,
     "metadata": {},
     "output_type": "execute_result"
    },
    {
     "data": {
      "image/png": "[encoded data removed]",
      "text/plain": [
       "<Figure size 432x288 with 1 Axes>"
      ]
     },
     "metadata": {
      "needs_background": "light"
     },
     "output_type": "display_data"
    }
   ],
   "source": [
    "sns.scatterplot(df['Time since posted'], df['Likes'])"
   ]
  },
  {
   "cell_type": "code",
   "execution_count": 14,
   "id": "3f4173f6",
   "metadata": {},
   "outputs": [
    {
     "data": {
      "text/html": [
       "<div>\n",
       "<style scoped>\n",
       "    .dataframe tbody tr th:only-of-type {\n",
       "        vertical-align: middle;\n",
       "    }\n",
       "\n",
       "    .dataframe tbody tr th {\n",
       "        vertical-align: top;\n",
       "    }\n",
       "\n",
       "    .dataframe thead th {\n",
       "        text-align: right;\n",
       "    }\n",
       "</style>\n",
       "<table border=\"1\" class=\"dataframe\">\n",
       "  <thead>\n",
       "    <tr style=\"text-align: right;\">\n",
       "      <th></th>\n",
       "      <th>Unnamed: 0</th>\n",
       "      <th>S.No</th>\n",
       "      <th>Followers</th>\n",
       "      <th>Time since posted</th>\n",
       "      <th>Likes</th>\n",
       "    </tr>\n",
       "  </thead>\n",
       "  <tbody>\n",
       "    <tr>\n",
       "      <th>Unnamed: 0</th>\n",
       "      <td>1.000000</td>\n",
       "      <td>0.869163</td>\n",
       "      <td>0.208473</td>\n",
       "      <td>0.017372</td>\n",
       "      <td>0.010271</td>\n",
       "    </tr>\n",
       "    <tr>\n",
       "      <th>S.No</th>\n",
       "      <td>0.869163</td>\n",
       "      <td>1.000000</td>\n",
       "      <td>0.172002</td>\n",
       "      <td>-0.110024</td>\n",
       "      <td>0.009721</td>\n",
       "    </tr>\n",
       "    <tr>\n",
       "      <th>Followers</th>\n",
       "      <td>0.208473</td>\n",
       "      <td>0.172002</td>\n",
       "      <td>1.000000</td>\n",
       "      <td>0.251154</td>\n",
       "      <td>0.266218</td>\n",
       "    </tr>\n",
       "    <tr>\n",
       "      <th>Time since posted</th>\n",
       "      <td>0.017372</td>\n",
       "      <td>-0.110024</td>\n",
       "      <td>0.251154</td>\n",
       "      <td>1.000000</td>\n",
       "      <td>0.609888</td>\n",
       "    </tr>\n",
       "    <tr>\n",
       "      <th>Likes</th>\n",
       "      <td>0.010271</td>\n",
       "      <td>0.009721</td>\n",
       "      <td>0.266218</td>\n",
       "      <td>0.609888</td>\n",
       "      <td>1.000000</td>\n",
       "    </tr>\n",
       "  </tbody>\n",
       "</table>\n",
       "</div>"
      ],
      "text/plain": [
       "                   Unnamed: 0      S.No  Followers  Time since posted  \\\n",
       "Unnamed: 0           1.000000  0.869163   0.208473           0.017372   \n",
       "S.No                 0.869163  1.000000   0.172002          -0.110024   \n",
       "Followers            0.208473  0.172002   1.000000           0.251154   \n",
       "Time since posted    0.017372 -0.110024   0.251154           1.000000   \n",
       "Likes                0.010271  0.009721   0.266218           0.609888   \n",
       "\n",
       "                      Likes  \n",
       "Unnamed: 0         0.010271  \n",
       "S.No               0.009721  \n",
       "Followers          0.266218  \n",
       "Time since posted  0.609888  \n",
       "Likes              1.000000  "
      ]
     },
     "execution_count": 14,
     "metadata": {},
     "output_type": "execute_result"
    }
   ],
   "source": [
    "df.corr()"
   ]
  },
  {
   "cell_type": "code",
   "execution_count": 15,
   "id": "cb967efd",
   "metadata": {},
   "outputs": [
    {
     "data": {
      "text/plain": [
       "11"
      ]
     },
     "execution_count": 15,
     "metadata": {},
     "output_type": "execute_result"
    }
   ],
   "source": [
    "df['Followers'].min()"
   ]
  },
  {
   "cell_type": "code",
   "execution_count": 16,
   "id": "c3c6a710",
   "metadata": {},
   "outputs": [],
   "source": [
    "df.drop(labels = ['Unnamed: 0', 'S.No', 'USERNAME', 'Time since posted'], axis = 1, inplace = True)"
   ]
  },
  {
   "cell_type": "code",
   "execution_count": 17,
   "id": "6258c650",
   "metadata": {},
   "outputs": [
    {
     "data": {
      "text/html": [
       "<div>\n",
       "<style scoped>\n",
       "    .dataframe tbody tr th:only-of-type {\n",
       "        vertical-align: middle;\n",
       "    }\n",
       "\n",
       "    .dataframe tbody tr th {\n",
       "        vertical-align: top;\n",
       "    }\n",
       "\n",
       "    .dataframe thead th {\n",
       "        text-align: right;\n",
       "    }\n",
       "</style>\n",
       "<table border=\"1\" class=\"dataframe\">\n",
       "  <thead>\n",
       "    <tr style=\"text-align: right;\">\n",
       "      <th></th>\n",
       "      <th>Caption</th>\n",
       "      <th>Followers</th>\n",
       "      <th>Hashtags</th>\n",
       "      <th>Likes</th>\n",
       "    </tr>\n",
       "  </thead>\n",
       "  <tbody>\n",
       "    <tr>\n",
       "      <th>0</th>\n",
       "      <td>Who are #DataScientist and what do they do? &gt;&gt;...</td>\n",
       "      <td>1600</td>\n",
       "      <td>#MachineLearning #AI #DataAnalytics #DataScien...</td>\n",
       "      <td>139</td>\n",
       "    </tr>\n",
       "    <tr>\n",
       "      <th>1</th>\n",
       "      <td>We all know where it’s going. We just have to ...</td>\n",
       "      <td>880</td>\n",
       "      <td>#deck .#mac #macintosh#sayhello #apple #steve...</td>\n",
       "      <td>23</td>\n",
       "    </tr>\n",
       "    <tr>\n",
       "      <th>2</th>\n",
       "      <td>Alexander Barinov: 4 years as CFO in multinati...</td>\n",
       "      <td>255</td>\n",
       "      <td>#whoiswho #aitrading #ai #aitradingteam#instat...</td>\n",
       "      <td>25</td>\n",
       "    </tr>\n",
       "    <tr>\n",
       "      <th>3</th>\n",
       "      <td>sfad</td>\n",
       "      <td>340</td>\n",
       "      <td>#iot #cre#workplace #CDO #bigdata #technology#...</td>\n",
       "      <td>49</td>\n",
       "    </tr>\n",
       "    <tr>\n",
       "      <th>4</th>\n",
       "      <td>Ever missed a call while your phone was chargi...</td>\n",
       "      <td>304</td>\n",
       "      <td>#instamachinelearning #instabigdata#instamarke...</td>\n",
       "      <td>30</td>\n",
       "    </tr>\n",
       "  </tbody>\n",
       "</table>\n",
       "</div>"
      ],
      "text/plain": [
       "                                             Caption  Followers  \\\n",
       "0  Who are #DataScientist and what do they do? >>...       1600   \n",
       "1  We all know where it’s going. We just have to ...        880   \n",
       "2  Alexander Barinov: 4 years as CFO in multinati...        255   \n",
       "3                                               sfad        340   \n",
       "4  Ever missed a call while your phone was chargi...        304   \n",
       "\n",
       "                                            Hashtags  Likes  \n",
       "0  #MachineLearning #AI #DataAnalytics #DataScien...    139  \n",
       "1   #deck .#mac #macintosh#sayhello #apple #steve...     23  \n",
       "2  #whoiswho #aitrading #ai #aitradingteam#instat...     25  \n",
       "3  #iot #cre#workplace #CDO #bigdata #technology#...     49  \n",
       "4  #instamachinelearning #instabigdata#instamarke...     30  "
      ]
     },
     "execution_count": 17,
     "metadata": {},
     "output_type": "execute_result"
    }
   ],
   "source": [
    "df.head()"
   ]
  },
  {
   "cell_type": "code",
   "execution_count": 18,
   "id": "d0ef29d4",
   "metadata": {},
   "outputs": [
    {
     "data": {
      "text/plain": [
       "Caption      6\n",
       "Followers    0\n",
       "Hashtags     0\n",
       "Likes        0\n",
       "dtype: int64"
      ]
     },
     "execution_count": 18,
     "metadata": {},
     "output_type": "execute_result"
    }
   ],
   "source": [
    "df.isnull().sum()"
   ]
  },
  {
   "cell_type": "code",
   "execution_count": 19,
   "id": "0a2d359a",
   "metadata": {},
   "outputs": [
    {
     "name": "stdout",
     "output_type": "stream",
     "text": [
      "<class 'pandas.core.frame.DataFrame'>\n",
      "RangeIndex: 100 entries, 0 to 99\n",
      "Data columns (total 4 columns):\n",
      " #   Column     Non-Null Count  Dtype \n",
      "---  ------     --------------  ----- \n",
      " 0   Caption    94 non-null     object\n",
      " 1   Followers  100 non-null    int64 \n",
      " 2   Hashtags   100 non-null    object\n",
      " 3   Likes      100 non-null    int64 \n",
      "dtypes: int64(2), object(2)\n",
      "memory usage: 3.2+ KB\n"
     ]
    }
   ],
   "source": [
    "df.info()"
   ]
  },
  {
   "cell_type": "code",
   "execution_count": 20,
   "id": "da52c18e",
   "metadata": {},
   "outputs": [
    {
     "data": {
      "text/html": [
       "<div>\n",
       "<style scoped>\n",
       "    .dataframe tbody tr th:only-of-type {\n",
       "        vertical-align: middle;\n",
       "    }\n",
       "\n",
       "    .dataframe tbody tr th {\n",
       "        vertical-align: top;\n",
       "    }\n",
       "\n",
       "    .dataframe thead th {\n",
       "        text-align: right;\n",
       "    }\n",
       "</style>\n",
       "<table border=\"1\" class=\"dataframe\">\n",
       "  <thead>\n",
       "    <tr style=\"text-align: right;\">\n",
       "      <th></th>\n",
       "      <th>Followers</th>\n",
       "      <th>Likes</th>\n",
       "    </tr>\n",
       "  </thead>\n",
       "  <tbody>\n",
       "    <tr>\n",
       "      <th>count</th>\n",
       "      <td>100.00000</td>\n",
       "      <td>100.00000</td>\n",
       "    </tr>\n",
       "    <tr>\n",
       "      <th>mean</th>\n",
       "      <td>961.96000</td>\n",
       "      <td>46.48000</td>\n",
       "    </tr>\n",
       "    <tr>\n",
       "      <th>std</th>\n",
       "      <td>1014.62567</td>\n",
       "      <td>55.08698</td>\n",
       "    </tr>\n",
       "    <tr>\n",
       "      <th>min</th>\n",
       "      <td>11.00000</td>\n",
       "      <td>8.00000</td>\n",
       "    </tr>\n",
       "    <tr>\n",
       "      <th>25%</th>\n",
       "      <td>252.75000</td>\n",
       "      <td>19.00000</td>\n",
       "    </tr>\n",
       "    <tr>\n",
       "      <th>50%</th>\n",
       "      <td>612.00000</td>\n",
       "      <td>29.00000</td>\n",
       "    </tr>\n",
       "    <tr>\n",
       "      <th>75%</th>\n",
       "      <td>1197.00000</td>\n",
       "      <td>46.00000</td>\n",
       "    </tr>\n",
       "    <tr>\n",
       "      <th>max</th>\n",
       "      <td>4496.00000</td>\n",
       "      <td>349.00000</td>\n",
       "    </tr>\n",
       "  </tbody>\n",
       "</table>\n",
       "</div>"
      ],
      "text/plain": [
       "        Followers      Likes\n",
       "count   100.00000  100.00000\n",
       "mean    961.96000   46.48000\n",
       "std    1014.62567   55.08698\n",
       "min      11.00000    8.00000\n",
       "25%     252.75000   19.00000\n",
       "50%     612.00000   29.00000\n",
       "75%    1197.00000   46.00000\n",
       "max    4496.00000  349.00000"
      ]
     },
     "execution_count": 20,
     "metadata": {},
     "output_type": "execute_result"
    }
   ],
   "source": [
    "df.describe()"
   ]
  },
  {
   "cell_type": "code",
   "execution_count": 21,
   "id": "69a906d9",
   "metadata": {},
   "outputs": [
    {
     "data": {
      "text/plain": [
       "<AxesSubplot:xlabel='Likes', ylabel='Count'>"
      ]
     },
     "execution_count": 21,
     "metadata": {},
     "output_type": "execute_result"
    },
    {
     "data": {
      "image/png": "[encoded data removed]",
      "text/plain": [
       "<Figure size 432x288 with 1 Axes>"
      ]
     },
     "metadata": {
      "needs_background": "light"
     },
     "output_type": "display_data"
    }
   ],
   "source": [
    "sns.histplot(df['Likes'])"
   ]
  },
  {
   "cell_type": "code",
   "execution_count": 22,
   "id": "f96a599b",
   "metadata": {},
   "outputs": [
    {
     "data": {
      "text/plain": [
       "<AxesSubplot:xlabel='Followers', ylabel='Count'>"
      ]
     },
     "execution_count": 22,
     "metadata": {},
     "output_type": "execute_result"
    },
    {
     "data": {
      "image/png": "[encoded data removed]",
      "text/plain": [
       "<Figure size 432x288 with 1 Axes>"
      ]
     },
     "metadata": {
      "needs_background": "light"
     },
     "output_type": "display_data"
    }
   ],
   "source": [
    "sns.histplot(df['Followers'])"
   ]
  },
  {
   "cell_type": "code",
   "execution_count": 23,
   "id": "79144852",
   "metadata": {},
   "outputs": [
    {
     "data": {
      "text/plain": [
       "<AxesSubplot:xlabel='Likes', ylabel='Followers'>"
      ]
     },
     "execution_count": 23,
     "metadata": {},
     "output_type": "execute_result"
    },
    {
     "data": {
      "image/png": "[encoded data removed]",
      "text/plain": [
       "<Figure size 432x288 with 1 Axes>"
      ]
     },
     "metadata": {
      "needs_background": "light"
     },
     "output_type": "display_data"
    }
   ],
   "source": [
    "sns.scatterplot(data = df, x = 'Likes', y = 'Followers')"
   ]
  },
  {
   "cell_type": "code",
   "execution_count": 24,
   "id": "ebcac686",
   "metadata": {},
   "outputs": [
    {
     "data": {
      "image/png": "[encoded data removed]",
      "text/plain": [
       "<Figure size 1440x288 with 2 Axes>"
      ]
     },
     "metadata": {
      "needs_background": "light"
     },
     "output_type": "display_data"
    }
   ],
   "source": [
    "nf = ['Followers', 'Likes']\n",
    "\n",
    "fig, axes = plt.subplots(1,2, figsize = (20,4))\n",
    "\n",
    "\n",
    "for i in range(len(nf)): \n",
    "    sns.boxplot(df[nf[i]], ax = axes[i] )"
   ]
  },
  {
   "cell_type": "markdown",
   "id": "a8cf3cf4",
   "metadata": {},
   "source": [
    "**Observation :**  \n",
    "\n",
    "- This data contains 100 instances. The data contains numerical and textual data. From the histrogram plots, it is observed that the numerical features are not distributed normally. The aim of this analysis is to predict 'Likes' from the input feature 'Followers', 'Caption' and 'Hashtags'. \n",
    "\n",
    "\n",
    "- 'Followers' and 'Likes' have somewhat positive correlation, but is not very significant/strong. \n",
    "\n",
    "\n",
    "- Also, it can be seen that we have outliers in our data. "
   ]
  },
  {
   "cell_type": "markdown",
   "id": "7d8f5dd9",
   "metadata": {},
   "source": [
    "## Analysis Strategy : \n",
    "\n",
    "- First and foremost we need to transform the text data to vectors to perform a regression analysis. It is observed that we have long texts in 'Caption'. In 'Hashtags' we can assume that the hashtags actually contains important informations. So, throught out the textual analysis, we will consider 'Hashtags' data. \n",
    "\n",
    "- We also observe that the data set is small (only 100 instances). So, we need to check that whether we should remove the outliers and then build a model or we use RobustScalar and then build a model. "
   ]
  },
  {
   "cell_type": "markdown",
   "id": "9433b706",
   "metadata": {},
   "source": [
    "### Remove the outliers"
   ]
  },
  {
   "cell_type": "code",
   "execution_count": 25,
   "id": "79926e49",
   "metadata": {},
   "outputs": [
    {
     "name": "stdout",
     "output_type": "stream",
     "text": [
      "Followers    944.25\n",
      "Likes         27.00\n",
      "dtype: float64\n",
      "-----------------------\n",
      "(79, 4)\n",
      "------------------------\n"
     ]
    },
    {
     "data": {
      "image/png": "[encoded data removed]",
      "text/plain": [
       "<Figure size 1440x288 with 2 Axes>"
      ]
     },
     "metadata": {
      "needs_background": "light"
     },
     "output_type": "display_data"
    }
   ],
   "source": [
    "df2 = df.copy()\n",
    "#l_feat = df2.columns\n",
    "\n",
    "# putting limits \n",
    "Q1 = df2.quantile(0.25)\n",
    "Q3 = df2.quantile(0.75)\n",
    "IQR = Q3 - Q1\n",
    "print(IQR)\n",
    "print('-----------------------')\n",
    "# removing outliers\n",
    "df2_out = df2[~((df2 < (Q1 - 1.5 * IQR)) |\n",
    "                (df2 > (Q3 + 1.5 * IQR))).any(axis=1)]\n",
    "print(df2_out.shape)\n",
    "print('------------------------')\n",
    "\n",
    "\n",
    "\n",
    "#plotting : \n",
    "fig, axes = plt.subplots(1,2, figsize=(20,4))\n",
    "\n",
    "for i in range (len(nf)):\n",
    "    sns.boxplot(df2_out[nf[i]],  ax = axes[i])\n",
    "    \n",
    "plt.show()    \n"
   ]
  },
  {
   "cell_type": "code",
   "execution_count": 26,
   "id": "d055465b",
   "metadata": {},
   "outputs": [
    {
     "data": {
      "text/html": [
       "<div>\n",
       "<style scoped>\n",
       "    .dataframe tbody tr th:only-of-type {\n",
       "        vertical-align: middle;\n",
       "    }\n",
       "\n",
       "    .dataframe tbody tr th {\n",
       "        vertical-align: top;\n",
       "    }\n",
       "\n",
       "    .dataframe thead th {\n",
       "        text-align: right;\n",
       "    }\n",
       "</style>\n",
       "<table border=\"1\" class=\"dataframe\">\n",
       "  <thead>\n",
       "    <tr style=\"text-align: right;\">\n",
       "      <th></th>\n",
       "      <th>Caption</th>\n",
       "      <th>Followers</th>\n",
       "      <th>Hashtags</th>\n",
       "      <th>Likes</th>\n",
       "    </tr>\n",
       "  </thead>\n",
       "  <tbody>\n",
       "    <tr>\n",
       "      <th>1</th>\n",
       "      <td>We all know where it’s going. We just have to ...</td>\n",
       "      <td>880</td>\n",
       "      <td>#deck .#mac #macintosh#sayhello #apple #steve...</td>\n",
       "      <td>23</td>\n",
       "    </tr>\n",
       "    <tr>\n",
       "      <th>2</th>\n",
       "      <td>Alexander Barinov: 4 years as CFO in multinati...</td>\n",
       "      <td>255</td>\n",
       "      <td>#whoiswho #aitrading #ai #aitradingteam#instat...</td>\n",
       "      <td>25</td>\n",
       "    </tr>\n",
       "    <tr>\n",
       "      <th>3</th>\n",
       "      <td>sfad</td>\n",
       "      <td>340</td>\n",
       "      <td>#iot #cre#workplace #CDO #bigdata #technology#...</td>\n",
       "      <td>49</td>\n",
       "    </tr>\n",
       "    <tr>\n",
       "      <th>4</th>\n",
       "      <td>Ever missed a call while your phone was chargi...</td>\n",
       "      <td>304</td>\n",
       "      <td>#instamachinelearning #instabigdata#instamarke...</td>\n",
       "      <td>30</td>\n",
       "    </tr>\n",
       "    <tr>\n",
       "      <th>5</th>\n",
       "      <td>Cyber attacks are more frequent every day and ...</td>\n",
       "      <td>1231</td>\n",
       "      <td>#edtech #learning#educationtechnology #tech #l...</td>\n",
       "      <td>18</td>\n",
       "    </tr>\n",
       "  </tbody>\n",
       "</table>\n",
       "</div>"
      ],
      "text/plain": [
       "                                             Caption  Followers  \\\n",
       "1  We all know where it’s going. We just have to ...        880   \n",
       "2  Alexander Barinov: 4 years as CFO in multinati...        255   \n",
       "3                                               sfad        340   \n",
       "4  Ever missed a call while your phone was chargi...        304   \n",
       "5  Cyber attacks are more frequent every day and ...       1231   \n",
       "\n",
       "                                            Hashtags  Likes  \n",
       "1   #deck .#mac #macintosh#sayhello #apple #steve...     23  \n",
       "2  #whoiswho #aitrading #ai #aitradingteam#instat...     25  \n",
       "3  #iot #cre#workplace #CDO #bigdata #technology#...     49  \n",
       "4  #instamachinelearning #instabigdata#instamarke...     30  \n",
       "5  #edtech #learning#educationtechnology #tech #l...     18  "
      ]
     },
     "execution_count": 26,
     "metadata": {},
     "output_type": "execute_result"
    }
   ],
   "source": [
    "df2_out.head()"
   ]
  },
  {
   "cell_type": "code",
   "execution_count": 27,
   "id": "ab855d2e",
   "metadata": {},
   "outputs": [
    {
     "data": {
      "image/png": "[encoded data removed]",
      "text/plain": [
       "<Figure size 1440x288 with 2 Axes>"
      ]
     },
     "metadata": {
      "needs_background": "light"
     },
     "output_type": "display_data"
    }
   ],
   "source": [
    "fig, axes = plt.subplots(1,2, figsize=(20,4))\n",
    "\n",
    "for i in range(len(nf)) : \n",
    "    sns.histplot(df2_out[nf[i]], ax = axes[i])"
   ]
  },
  {
   "cell_type": "code",
   "execution_count": 28,
   "id": "db6fd1eb",
   "metadata": {},
   "outputs": [],
   "source": [
    "df1 = df2_out.copy() # we take the data without outliers.\n",
    "#df1 = df.copy() # we take the data with outliers. "
   ]
  },
  {
   "cell_type": "code",
   "execution_count": 29,
   "id": "792be166",
   "metadata": {},
   "outputs": [
    {
     "data": {
      "text/plain": [
       "(79, 4)"
      ]
     },
     "execution_count": 29,
     "metadata": {},
     "output_type": "execute_result"
    }
   ],
   "source": [
    "df1.shape"
   ]
  },
  {
   "cell_type": "code",
   "execution_count": 30,
   "id": "282be614",
   "metadata": {},
   "outputs": [],
   "source": [
    "df1.dropna(inplace=True)"
   ]
  },
  {
   "cell_type": "code",
   "execution_count": 31,
   "id": "e0b09698",
   "metadata": {},
   "outputs": [
    {
     "name": "stdout",
     "output_type": "stream",
     "text": [
      "We all know where it’s going. We just have to #workresponsibly to postpone the date. This actually made into a business slide #deck .#mac #macintosh#sayhello #apple #stevejobs #ai #evolution#artificialintelligence #machinelearning#terminator #illbeback #technology#computerevolution #computerscience#sciencefiction#computersciencetosciencefiction#tomorrowstechnology #vr #ar #robot#robots #t2 #businessdeck #businessslides#illustration #sketches #drawing\n"
     ]
    }
   ],
   "source": [
    "print(df1['Caption'][1])"
   ]
  },
  {
   "cell_type": "markdown",
   "id": "b19d2174",
   "metadata": {},
   "source": [
    "#### If we observe keenly, it can be seen that the main challenge with this data is to find out the actual words/meaningful words from the hashtag data and the caption data. For example, in the above text, we have normal meaningful words (by meaningful words I mean the words for which we can find the meaning in dictionary). Along with that we have some words like  `#computerevolution`, `#computersciencetosciencefiction`, `#tomorrowstechnology` and many more. This data contains many more examples like that. \n",
    "\n",
    "\n",
    "#### The 'Caption' and 'Hashtags' columns need to clean and then the first task is to break this words into meaningful words before vectorizing the text. For splitting/breaking the compund words/lengthy words this we will use `wordninja` library.\n",
    "\n",
    "\n",
    "## Cleaning text and Vectorization"
   ]
  },
  {
   "cell_type": "code",
   "execution_count": 32,
   "id": "7ef466b9",
   "metadata": {},
   "outputs": [],
   "source": [
    "import wordninja"
   ]
  },
  {
   "cell_type": "code",
   "execution_count": 33,
   "id": "bcf21d61",
   "metadata": {},
   "outputs": [],
   "source": [
    "def cleaning_process(text1) :\n",
    "    text = text1\n",
    "    #print(text)\n",
    "    if type(text) == str : \n",
    "        text = re.sub(r\"http\\S+\", \"\", text) # removing url\n",
    "        \n",
    "        emoji_pattern = re.compile(\"[\"\n",
    "        u\"\\U0001F600-\\U0001F64F\"  # emoticons\n",
    "        u\"\\U0001F300-\\U0001F5FF\"  # symbols & pictographs\n",
    "        u\"\\U0001F680-\\U0001F6FF\"  # transport & map symbols\n",
    "        u\"\\U0001F1E0-\\U0001F1FF\"  # flags (iOS)\n",
    "                           \"]+\", flags=re.UNICODE)\n",
    "        #print(emoji_pattern.sub(r'', text)) # no emoji\n",
    "        text = emoji_pattern.sub(r'', text)\n",
    "        \n",
    "        nopunc = [char for char in text if char not in string.punctuation] # removing punctuation\n",
    "        text = ''.join(nopunc)\n",
    "        \n",
    "        text = ''.join([i for i in text if not i.isdigit()]) # removing digits\n",
    "        \n",
    "        text = text.lower()\n",
    "        \n",
    "        tokens = nltk.word_tokenize(text)\n",
    "        tokens = [w for w in tokens if w not in stopwords.words('english')]\n",
    "        #tokens = nltk.word_tokenize(text)\n",
    "        \n",
    "        #lematizer = WordNetLemmatizer()\n",
    "        #ps = PorterStemmer()\n",
    "        #lem_text = [lematizer.lemmatize(i) for i in tokens]\n",
    "        #stem_text = [ps.stem(i) for i in lem_text]\n",
    "        text = ' '.join(tokens)\n",
    "                \n",
    "        return text\n",
    "    \n",
    "    return None"
   ]
  },
  {
   "cell_type": "code",
   "execution_count": 34,
   "id": "251963ca",
   "metadata": {},
   "outputs": [],
   "source": [
    "df1['cleaned_caption'] = df1['Caption'].apply(cleaning_process)"
   ]
  },
  {
   "cell_type": "code",
   "execution_count": 35,
   "id": "86da38d1",
   "metadata": {},
   "outputs": [],
   "source": [
    "df1['cleaned_hastags'] = df1['Hashtags'].apply(cleaning_process)"
   ]
  },
  {
   "cell_type": "code",
   "execution_count": 36,
   "id": "36e25853",
   "metadata": {},
   "outputs": [
    {
     "data": {
      "text/html": [
       "<div>\n",
       "<style scoped>\n",
       "    .dataframe tbody tr th:only-of-type {\n",
       "        vertical-align: middle;\n",
       "    }\n",
       "\n",
       "    .dataframe tbody tr th {\n",
       "        vertical-align: top;\n",
       "    }\n",
       "\n",
       "    .dataframe thead th {\n",
       "        text-align: right;\n",
       "    }\n",
       "</style>\n",
       "<table border=\"1\" class=\"dataframe\">\n",
       "  <thead>\n",
       "    <tr style=\"text-align: right;\">\n",
       "      <th></th>\n",
       "      <th>Caption</th>\n",
       "      <th>Followers</th>\n",
       "      <th>Hashtags</th>\n",
       "      <th>Likes</th>\n",
       "      <th>cleaned_caption</th>\n",
       "      <th>cleaned_hastags</th>\n",
       "    </tr>\n",
       "  </thead>\n",
       "  <tbody>\n",
       "    <tr>\n",
       "      <th>1</th>\n",
       "      <td>We all know where it’s going. We just have to ...</td>\n",
       "      <td>880</td>\n",
       "      <td>#deck .#mac #macintosh#sayhello #apple #steve...</td>\n",
       "      <td>23</td>\n",
       "      <td>know ’ going workresponsibly postpone date act...</td>\n",
       "      <td>deck mac macintoshsayhello apple stevejobs ai ...</td>\n",
       "    </tr>\n",
       "    <tr>\n",
       "      <th>2</th>\n",
       "      <td>Alexander Barinov: 4 years as CFO in multinati...</td>\n",
       "      <td>255</td>\n",
       "      <td>#whoiswho #aitrading #ai #aitradingteam#instat...</td>\n",
       "      <td>25</td>\n",
       "      <td>alexander barinov years cfo multinationals yea...</td>\n",
       "      <td>whoiswho aitrading ai aitradingteaminstateam i...</td>\n",
       "    </tr>\n",
       "    <tr>\n",
       "      <th>3</th>\n",
       "      <td>sfad</td>\n",
       "      <td>340</td>\n",
       "      <td>#iot #cre#workplace #CDO #bigdata #technology#...</td>\n",
       "      <td>49</td>\n",
       "      <td>sfad</td>\n",
       "      <td>iot creworkplace cdo bigdata technologytech wo...</td>\n",
       "    </tr>\n",
       "    <tr>\n",
       "      <th>4</th>\n",
       "      <td>Ever missed a call while your phone was chargi...</td>\n",
       "      <td>304</td>\n",
       "      <td>#instamachinelearning #instabigdata#instamarke...</td>\n",
       "      <td>30</td>\n",
       "      <td>ever missed call phone charging system notify ...</td>\n",
       "      <td>instamachinelearning instabigdatainstamarketin...</td>\n",
       "    </tr>\n",
       "    <tr>\n",
       "      <th>5</th>\n",
       "      <td>Cyber attacks are more frequent every day and ...</td>\n",
       "      <td>1231</td>\n",
       "      <td>#edtech #learning#educationtechnology #tech #l...</td>\n",
       "      <td>18</td>\n",
       "      <td>cyber attacks frequent every day affect busine...</td>\n",
       "      <td>edtech learningeducationtechnology tech learnn...</td>\n",
       "    </tr>\n",
       "  </tbody>\n",
       "</table>\n",
       "</div>"
      ],
      "text/plain": [
       "                                             Caption  Followers  \\\n",
       "1  We all know where it’s going. We just have to ...        880   \n",
       "2  Alexander Barinov: 4 years as CFO in multinati...        255   \n",
       "3                                               sfad        340   \n",
       "4  Ever missed a call while your phone was chargi...        304   \n",
       "5  Cyber attacks are more frequent every day and ...       1231   \n",
       "\n",
       "                                            Hashtags  Likes  \\\n",
       "1   #deck .#mac #macintosh#sayhello #apple #steve...     23   \n",
       "2  #whoiswho #aitrading #ai #aitradingteam#instat...     25   \n",
       "3  #iot #cre#workplace #CDO #bigdata #technology#...     49   \n",
       "4  #instamachinelearning #instabigdata#instamarke...     30   \n",
       "5  #edtech #learning#educationtechnology #tech #l...     18   \n",
       "\n",
       "                                     cleaned_caption  \\\n",
       "1  know ’ going workresponsibly postpone date act...   \n",
       "2  alexander barinov years cfo multinationals yea...   \n",
       "3                                               sfad   \n",
       "4  ever missed call phone charging system notify ...   \n",
       "5  cyber attacks frequent every day affect busine...   \n",
       "\n",
       "                                     cleaned_hastags  \n",
       "1  deck mac macintoshsayhello apple stevejobs ai ...  \n",
       "2  whoiswho aitrading ai aitradingteaminstateam i...  \n",
       "3  iot creworkplace cdo bigdata technologytech wo...  \n",
       "4  instamachinelearning instabigdatainstamarketin...  \n",
       "5  edtech learningeducationtechnology tech learnn...  "
      ]
     },
     "execution_count": 36,
     "metadata": {},
     "output_type": "execute_result"
    }
   ],
   "source": [
    "df1.head()"
   ]
  },
  {
   "cell_type": "code",
   "execution_count": 37,
   "id": "85986e95",
   "metadata": {},
   "outputs": [],
   "source": [
    "df1['cleaned_caption'] = df1['cleaned_caption'].apply(lambda x : ' '.join(wordninja.split(x)))"
   ]
  },
  {
   "cell_type": "code",
   "execution_count": 38,
   "id": "6658e12f",
   "metadata": {},
   "outputs": [],
   "source": [
    "df1['cleaned_hastags'] = df1['cleaned_hastags'].apply(lambda x : ' '.join(wordninja.split(x)))"
   ]
  },
  {
   "cell_type": "code",
   "execution_count": 39,
   "id": "3623b8b6",
   "metadata": {},
   "outputs": [
    {
     "data": {
      "text/html": [
       "<div>\n",
       "<style scoped>\n",
       "    .dataframe tbody tr th:only-of-type {\n",
       "        vertical-align: middle;\n",
       "    }\n",
       "\n",
       "    .dataframe tbody tr th {\n",
       "        vertical-align: top;\n",
       "    }\n",
       "\n",
       "    .dataframe thead th {\n",
       "        text-align: right;\n",
       "    }\n",
       "</style>\n",
       "<table border=\"1\" class=\"dataframe\">\n",
       "  <thead>\n",
       "    <tr style=\"text-align: right;\">\n",
       "      <th></th>\n",
       "      <th>Caption</th>\n",
       "      <th>Followers</th>\n",
       "      <th>Hashtags</th>\n",
       "      <th>Likes</th>\n",
       "      <th>cleaned_caption</th>\n",
       "      <th>cleaned_hastags</th>\n",
       "    </tr>\n",
       "  </thead>\n",
       "  <tbody>\n",
       "    <tr>\n",
       "      <th>1</th>\n",
       "      <td>We all know where it’s going. We just have to ...</td>\n",
       "      <td>880</td>\n",
       "      <td>#deck .#mac #macintosh#sayhello #apple #steve...</td>\n",
       "      <td>23</td>\n",
       "      <td>know going work responsibly postpone date actu...</td>\n",
       "      <td>deck mac macintosh say hello apple steve jobs ...</td>\n",
       "    </tr>\n",
       "    <tr>\n",
       "      <th>2</th>\n",
       "      <td>Alexander Barinov: 4 years as CFO in multinati...</td>\n",
       "      <td>255</td>\n",
       "      <td>#whoiswho #aitrading #ai #aitradingteam#instat...</td>\n",
       "      <td>25</td>\n",
       "      <td>alexander bari nov years cf o multinationals y...</td>\n",
       "      <td>who is who a i trading a i a i trading team in...</td>\n",
       "    </tr>\n",
       "    <tr>\n",
       "      <th>3</th>\n",
       "      <td>sfad</td>\n",
       "      <td>340</td>\n",
       "      <td>#iot #cre#workplace #CDO #bigdata #technology#...</td>\n",
       "      <td>49</td>\n",
       "      <td>s fad</td>\n",
       "      <td>i ot c re workplace cdo big data technology te...</td>\n",
       "    </tr>\n",
       "    <tr>\n",
       "      <th>4</th>\n",
       "      <td>Ever missed a call while your phone was chargi...</td>\n",
       "      <td>304</td>\n",
       "      <td>#instamachinelearning #instabigdata#instamarke...</td>\n",
       "      <td>30</td>\n",
       "      <td>ever missed call phone charging system notify ...</td>\n",
       "      <td>insta machine learning insta big data insta ma...</td>\n",
       "    </tr>\n",
       "    <tr>\n",
       "      <th>5</th>\n",
       "      <td>Cyber attacks are more frequent every day and ...</td>\n",
       "      <td>1231</td>\n",
       "      <td>#edtech #learning#educationtechnology #tech #l...</td>\n",
       "      <td>18</td>\n",
       "      <td>cyber attacks frequent every day affect busine...</td>\n",
       "      <td>ed tech learning education technology tech lea...</td>\n",
       "    </tr>\n",
       "  </tbody>\n",
       "</table>\n",
       "</div>"
      ],
      "text/plain": [
       "                                             Caption  Followers  \\\n",
       "1  We all know where it’s going. We just have to ...        880   \n",
       "2  Alexander Barinov: 4 years as CFO in multinati...        255   \n",
       "3                                               sfad        340   \n",
       "4  Ever missed a call while your phone was chargi...        304   \n",
       "5  Cyber attacks are more frequent every day and ...       1231   \n",
       "\n",
       "                                            Hashtags  Likes  \\\n",
       "1   #deck .#mac #macintosh#sayhello #apple #steve...     23   \n",
       "2  #whoiswho #aitrading #ai #aitradingteam#instat...     25   \n",
       "3  #iot #cre#workplace #CDO #bigdata #technology#...     49   \n",
       "4  #instamachinelearning #instabigdata#instamarke...     30   \n",
       "5  #edtech #learning#educationtechnology #tech #l...     18   \n",
       "\n",
       "                                     cleaned_caption  \\\n",
       "1  know going work responsibly postpone date actu...   \n",
       "2  alexander bari nov years cf o multinationals y...   \n",
       "3                                              s fad   \n",
       "4  ever missed call phone charging system notify ...   \n",
       "5  cyber attacks frequent every day affect busine...   \n",
       "\n",
       "                                     cleaned_hastags  \n",
       "1  deck mac macintosh say hello apple steve jobs ...  \n",
       "2  who is who a i trading a i a i trading team in...  \n",
       "3  i ot c re workplace cdo big data technology te...  \n",
       "4  insta machine learning insta big data insta ma...  \n",
       "5  ed tech learning education technology tech lea...  "
      ]
     },
     "execution_count": 39,
     "metadata": {},
     "output_type": "execute_result"
    }
   ],
   "source": [
    "df1.head()"
   ]
  },
  {
   "cell_type": "code",
   "execution_count": 40,
   "id": "47dbf5fa",
   "metadata": {},
   "outputs": [],
   "source": [
    "X = df1['cleaned_hastags']\n",
    "y = df1['Likes']"
   ]
  },
  {
   "cell_type": "code",
   "execution_count": 41,
   "id": "7b32f2e4",
   "metadata": {},
   "outputs": [],
   "source": [
    "from sklearn.model_selection import train_test_split"
   ]
  },
  {
   "cell_type": "code",
   "execution_count": 42,
   "id": "fe79b9d4",
   "metadata": {},
   "outputs": [],
   "source": [
    "X_train, X_test, y_train, y_test = train_test_split(X, y, test_size=0.1, random_state=42)"
   ]
  },
  {
   "cell_type": "code",
   "execution_count": 43,
   "id": "25173019",
   "metadata": {},
   "outputs": [
    {
     "data": {
      "text/plain": [
       "15    google android machine learning women who code...\n",
       "77    ex kl us ives hot tr bau to zone cars of insta...\n",
       "90    developer coding programmer javascript program...\n",
       "42                              artificial intelligence\n",
       "10    artificial intelligence futurism machine learn...\n",
       "Name: cleaned_hastags, dtype: object"
      ]
     },
     "execution_count": 43,
     "metadata": {},
     "output_type": "execute_result"
    }
   ],
   "source": [
    "X_train.head()"
   ]
  },
  {
   "cell_type": "code",
   "execution_count": 44,
   "id": "a31c2180",
   "metadata": {},
   "outputs": [
    {
     "data": {
      "text/plain": [
       "5     ed tech learning education technology tech lea...\n",
       "87    grassroots development kids playing football k...\n",
       "24    data enthusiast data analytics data scientist ...\n",
       "1     deck mac macintosh say hello apple steve jobs ...\n",
       "38    bitcoin lite coin block chain crypto currency ...\n",
       "Name: cleaned_hastags, dtype: object"
      ]
     },
     "execution_count": 44,
     "metadata": {},
     "output_type": "execute_result"
    }
   ],
   "source": [
    "X_test.head()"
   ]
  },
  {
   "cell_type": "code",
   "execution_count": null,
   "id": "f304cab5",
   "metadata": {},
   "outputs": [],
   "source": []
  },
  {
   "cell_type": "code",
   "execution_count": 45,
   "id": "6f9a9055",
   "metadata": {},
   "outputs": [],
   "source": [
    "tfidf = TfidfVectorizer(lowercase=False)"
   ]
  },
  {
   "cell_type": "code",
   "execution_count": 46,
   "id": "efc5cc86",
   "metadata": {},
   "outputs": [],
   "source": [
    "X_train_trans = tfidf.fit_transform(X_train)\n",
    "X_test_trans = tfidf.transform(X_test)"
   ]
  },
  {
   "cell_type": "code",
   "execution_count": null,
   "id": "be8401f8",
   "metadata": {},
   "outputs": [],
   "source": []
  },
  {
   "cell_type": "markdown",
   "id": "dbdd86ce",
   "metadata": {},
   "source": [
    "## Model Building"
   ]
  },
  {
   "cell_type": "code",
   "execution_count": 47,
   "id": "17db43aa",
   "metadata": {},
   "outputs": [],
   "source": [
    "from sklearn.impute import SimpleImputer\n",
    "from sklearn.preprocessing import StandardScaler, MinMaxScaler, RobustScaler\n",
    "from sklearn.preprocessing import OneHotEncoder\n",
    "from sklearn.pipeline import Pipeline\n",
    "from sklearn.compose import ColumnTransformer"
   ]
  },
  {
   "cell_type": "code",
   "execution_count": 48,
   "id": "2523b2b7",
   "metadata": {},
   "outputs": [
    {
     "data": {
      "text/plain": [
       "\"\\n# model and pipeline\\n\\n#pipeline \\n\\nnum_pipeline = Pipeline(steps = [#('imputer', SimpleImputer(strategy='median')), \\n                                 ('scaler', StandardScaler())\\n                                 ])\\n    \\n\\ntext_pipeline = Pipeline(steps= [#('imputer', SimpleImputer(strategy='most_frequent')), \\n                                ('vectorizer', TfidfVectorizer(stop_words='english', analyzer='word')) \\n                                #('scaler',StandardScaler())\\n                                ])\\n\\n# preprocessor \\n\\npreprocessor = ColumnTransformer([\\n    ('num_pipeline', num_pipeline, numfeat[:-1])#, \\n    #('text_pipeline', text_pipeline, textfeat)\\n])\\n\""
      ]
     },
     "execution_count": 48,
     "metadata": {},
     "output_type": "execute_result"
    }
   ],
   "source": [
    "\"\"\"\n",
    "# model and pipeline\n",
    "\n",
    "#pipeline \n",
    "\n",
    "num_pipeline = Pipeline(steps = [#('imputer', SimpleImputer(strategy='median')), \n",
    "                                 ('scaler', StandardScaler())\n",
    "                                 ])\n",
    "    \n",
    "\n",
    "text_pipeline = Pipeline(steps= [#('imputer', SimpleImputer(strategy='most_frequent')), \n",
    "                                ('vectorizer', TfidfVectorizer(stop_words='english', analyzer='word')) \n",
    "                                #('scaler',StandardScaler())\n",
    "                                ])\n",
    "\n",
    "# preprocessor \n",
    "\n",
    "preprocessor = ColumnTransformer([\n",
    "    ('num_pipeline', num_pipeline, numfeat[:-1])#, \n",
    "    #('text_pipeline', text_pipeline, textfeat)\n",
    "])\n",
    "\"\"\"\n",
    "\n"
   ]
  },
  {
   "cell_type": "code",
   "execution_count": 49,
   "id": "d7de9481",
   "metadata": {},
   "outputs": [],
   "source": [
    "#X_train_scaled = pd.DataFrame(preprocessor.fit_transform(X_train))\n",
    "#X_test_scaled = pd.DataFrame(preprocessor.transform(X_test))"
   ]
  },
  {
   "cell_type": "code",
   "execution_count": 50,
   "id": "10e18ad4",
   "metadata": {},
   "outputs": [],
   "source": [
    "from sklearn.linear_model import LinearRegression\n",
    "from sklearn.neighbors import KNeighborsRegressor\n",
    "from sklearn.linear_model import Lasso\n",
    "from sklearn.linear_model import Ridge\n",
    "from sklearn.svm import SVR\n",
    "from sklearn.ensemble import RandomForestRegressor\n",
    "from sklearn.tree import DecisionTreeRegressor\n",
    "from sklearn.ensemble import GradientBoostingRegressor\n",
    "#from sklearn."
   ]
  },
  {
   "cell_type": "code",
   "execution_count": 51,
   "id": "ab1b4955",
   "metadata": {},
   "outputs": [],
   "source": [
    "from sklearn.metrics import mean_absolute_error, mean_squared_error, r2_score"
   ]
  },
  {
   "cell_type": "code",
   "execution_count": 52,
   "id": "9128b9f5",
   "metadata": {},
   "outputs": [],
   "source": [
    "def evaluate_model(true, predicted):\n",
    "    mae = mean_absolute_error(true, predicted)\n",
    "    mse = mean_squared_error(true, predicted)\n",
    "    rmse = np.sqrt(mean_squared_error(true, predicted))\n",
    "    r2_square = r2_score(true, predicted)\n",
    "    return mae, mse, rmse, r2_square"
   ]
  },
  {
   "cell_type": "code",
   "execution_count": 53,
   "id": "ae316048",
   "metadata": {},
   "outputs": [
    {
     "name": "stdout",
     "output_type": "stream",
     "text": [
      "LinearRegression\n",
      "Model Training Performance\n",
      "RMSE: 17.04320119145657\n",
      "MSE 290.47070685246666\n",
      "MAE: 14.060211970861868\n",
      "R2 score -0.8787392863625938\n",
      "===================================\n",
      "\n",
      "\n",
      "Lasso\n",
      "Model Training Performance\n",
      "RMSE: 15.459685116629169\n",
      "MSE 239.00186390532542\n",
      "MAE: 13.90576923076923\n",
      "R2 score -0.5458432834705231\n",
      "===================================\n",
      "\n",
      "\n",
      "Ridge\n",
      "Model Training Performance\n",
      "RMSE: 15.818092273763298\n",
      "MSE 250.21204318129014\n",
      "MAE: 14.142490565696475\n",
      "R2 score -0.6183497487218361\n",
      "===================================\n",
      "\n",
      "\n",
      "KNeighborsRegression\n",
      "Model Training Performance\n",
      "RMSE: 17.305057064338158\n",
      "MSE 299.465\n",
      "MAE: 15.125000000000002\n",
      "R2 score -0.9369135927235976\n",
      "===================================\n",
      "\n",
      "\n",
      "SVR\n",
      "Model Training Performance\n",
      "RMSE: 13.769317561245984\n",
      "MSE 189.59410610243705\n",
      "MAE: 12.314379204928123\n",
      "R2 score -0.2262782001572483\n",
      "===================================\n",
      "\n",
      "\n",
      "DecisionTree\n",
      "Model Training Performance\n",
      "RMSE: 27.785450329264055\n",
      "MSE 772.03125\n",
      "MAE: 14.5625\n",
      "R2 score -3.993431025770591\n",
      "===================================\n",
      "\n",
      "\n",
      "RandomForestRegressor\n",
      "Model Training Performance\n",
      "RMSE: 12.953310885584308\n",
      "MSE 167.78826289859694\n",
      "MAE: 11.022098214285714\n",
      "R2 score -0.08523990151694827\n",
      "===================================\n",
      "\n",
      "\n"
     ]
    }
   ],
   "source": [
    "models={\n",
    "    'LinearRegression':LinearRegression(),\n",
    "    'Lasso' : Lasso(), \n",
    "    'Ridge' : Ridge(),\n",
    "    'KNeighborsRegression':KNeighborsRegressor(),\n",
    "    'SVR':SVR(),\n",
    "    'DecisionTree' : DecisionTreeRegressor(),\n",
    "    'RandomForestRegressor':RandomForestRegressor(),\n",
    "}\n",
    "\n",
    "trained_model_list=[]\n",
    "model_list=[]\n",
    "pred_list = list()\n",
    "r2_list=[]\n",
    "\n",
    "for i in range(len(list(models))):\n",
    "    model=list(models.values())[i]\n",
    "    model.fit(X_train_trans,y_train)\n",
    "\n",
    "    #Make Predictions\n",
    "    y_pred=model.predict(X_test_trans)\n",
    "\n",
    "    mae, mse, rmse, r2_square=evaluate_model(y_test,y_pred)\n",
    "\n",
    "    print(list(models.keys())[i])\n",
    "    model_list.append(list(models.keys())[i])\n",
    "    pred_list.append(y_pred)\n",
    "    print('Model Training Performance')\n",
    "    print(\"RMSE:\",rmse)\n",
    "    print(\"MSE\", mse)\n",
    "    print(\"MAE:\",mae)\n",
    "    print(\"R2 score\",r2_square)\n",
    "\n",
    "    r2_list.append(r2_square)\n",
    "    \n",
    "    print('='*35)\n",
    "    print('\\n')"
   ]
  },
  {
   "cell_type": "code",
   "execution_count": 54,
   "id": "ef809b9c",
   "metadata": {},
   "outputs": [
    {
     "data": {
      "image/png": "[encoded data removed]",
      "text/plain": [
       "<Figure size 1440x864 with 8 Axes>"
      ]
     },
     "metadata": {
      "needs_background": "light"
     },
     "output_type": "display_data"
    }
   ],
   "source": [
    "fig, axes = plt.subplots(2,4, figsize=(20,12) )\n",
    "si = [[0,0], [0,1], [0,2], [0,3], [1,0], [1,1], [1,2],[1,3] ]\n",
    "\n",
    "for items in range(0, len(model_list)): \n",
    "    i = si[items][0]\n",
    "    j = si[items][1]\n",
    "    sns.lineplot(y_test, y_test, color = 'blue', legend = True, ax=axes[i,j])\n",
    "    sns.scatterplot(y_test, pred_list[items], color = 'lightcoral', legend = True, ax=axes[i,j])\n",
    "    axes[i,j].set_title(model_list[items])    \n",
    "    #axes[i,j].set_xlabel('rom y test)')\n",
    "    #axes[i,j].set_ylabel(f'FWI (from {lnames[items]})')\n",
    "    #axes[i,j].legend(['y_test', lnames[items] ])\n",
    "    \n",
    "    \n",
    "plt.show()"
   ]
  },
  {
   "cell_type": "code",
   "execution_count": 55,
   "id": "55f29971",
   "metadata": {
    "scrolled": true
   },
   "outputs": [
    {
     "data": {
      "image/png": "[encoded data removed]",
      "text/plain": [
       "<Figure size 1440x864 with 8 Axes>"
      ]
     },
     "metadata": {
      "needs_background": "light"
     },
     "output_type": "display_data"
    }
   ],
   "source": [
    "fig, axes = plt.subplots(2,4, figsize=(20,12) )\n",
    "si = [[0,0], [0,1], [0,2], [0,3], [1,0], [1,1], [1,2],[1,3] ]\n",
    "\n",
    "for items in range(0, len(model_list)): \n",
    "    i = si[items][0]\n",
    "    j = si[items][1]\n",
    "    #sns.lineplot(y_test, y_test, color = 'blue', legend = True, ax=axes[i,j])\n",
    "    sns.distplot(y_test - pred_list[items], ax=axes[i,j])\n",
    "    axes[i,j].set_title(model_list[items])    \n",
    "    \n",
    "plt.show()"
   ]
  },
  {
   "cell_type": "markdown",
   "id": "011985b1",
   "metadata": {},
   "source": [
    "## Comments and Discussions \n",
    "\n",
    "\n",
    "- The analysis was done with and without outliers, and it is found that removing outliers decrease the metric values. \n",
    "\n",
    "- Ofcourse, the result does not seem very good, the metric values are high, $R^2$ has a negative value. But one need to also consider that the data set it very small and number of features are also small, which may lead to negative $R^2$ values.  \n",
    "\n",
    "- Among all the models, Random Forest does better job.  "
   ]
  },
  {
   "cell_type": "code",
   "execution_count": null,
   "id": "dd0c50c6",
   "metadata": {},
   "outputs": [],
   "source": []
  },
  {
   "cell_type": "code",
   "execution_count": null,
   "id": "b3c90afa",
   "metadata": {},
   "outputs": [],
   "source": []
  }
 ],
 "metadata": {
  "kernelspec": {
   "display_name": "Python 3",
   "language": "python",
   "name": "python3"
  },
  "language_info": {
   "codemirror_mode": {
    "name": "ipython",
    "version": 3
   },
   "file_extension": ".py",
   "mimetype": "text/x-python",
   "name": "python",
   "nbconvert_exporter": "python",
   "pygments_lexer": "ipython3",
   "version": "3.8.8"
  }
 },
 "nbformat": 4,
 "nbformat_minor": 5
}
