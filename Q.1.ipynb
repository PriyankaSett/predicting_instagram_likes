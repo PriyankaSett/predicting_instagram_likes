{
 "cells": [
  {
   "cell_type": "markdown",
   "id": "ac2eadc7",
   "metadata": {},
   "source": [
    "**Q-1. \n",
    "Imagine you have a dataset where you have different Instagram features like username , Caption , Hashtag , Followers , Time_Since_posted , and likes , now your task is to predict the number of likes and Time Since posted and the rest of the features are your input features.\n",
    "Now you have to build a model which can predict the number of likes and Time Since posted.\n",
    "Dataset - This is the Dataset(https://www.kaggle.com/datasets/rxsraghavagrawal/instagram-reach) You can use this dataset for this question.**\n"
   ]
  },
  {
   "cell_type": "code",
   "execution_count": 1,
   "id": "1b786b9d",
   "metadata": {},
   "outputs": [],
   "source": [
    "import numpy as np\n",
    "import pandas as pd\n",
    "from sklearn.feature_extraction.text import TfidfVectorizer, CountVectorizer\n",
    "import nltk\n",
    "pd.set_option('display.max_rows', None)\n",
    "import warnings\n",
    "warnings.filterwarnings('ignore')"
   ]
  },
  {
   "cell_type": "code",
   "execution_count": 2,
   "id": "6e7c33ef",
   "metadata": {},
   "outputs": [],
   "source": [
    "import seaborn as sns\n",
    "import matplotlib.pyplot as plt\n",
    "%matplotlib inline"
   ]
  },
  {
   "cell_type": "code",
   "execution_count": 3,
   "id": "c3c9c0e5",
   "metadata": {},
   "outputs": [],
   "source": [
    "import re \n",
    "import string\n",
    "import nltk\n",
    "from nltk.corpus import stopwords\n",
    "from nltk.stem.wordnet import WordNetLemmatizer\n",
    "from nltk.stem.porter import PorterStemmer"
   ]
  },
  {
   "cell_type": "code",
   "execution_count": 4,
   "id": "9a3a6b93",
   "metadata": {},
   "outputs": [],
   "source": [
    "df = pd.read_csv('instagram_reach.csv') "
   ]
  },
  {
   "cell_type": "code",
   "execution_count": 5,
   "id": "4b62aa8c",
   "metadata": {},
   "outputs": [],
   "source": [
    "#df"
   ]
  },
  {
   "cell_type": "markdown",
   "id": "d594bc14",
   "metadata": {},
   "source": [
    "## Basic Info "
   ]
  },
  {
   "cell_type": "code",
   "execution_count": 6,
   "id": "e74bb614",
   "metadata": {},
   "outputs": [
    {
     "data": {
      "text/plain": [
       "(100, 8)"
      ]
     },
     "execution_count": 6,
     "metadata": {},
     "output_type": "execute_result"
    }
   ],
   "source": [
    "df.shape"
   ]
  },
  {
   "cell_type": "code",
   "execution_count": 7,
   "id": "e89ca103",
   "metadata": {},
   "outputs": [
    {
     "data": {
      "text/plain": [
       "Index(['Unnamed: 0', 'S.No', 'USERNAME', 'Caption', 'Followers', 'Hashtags',\n",
       "       'Time since posted', 'Likes'],\n",
       "      dtype='object')"
      ]
     },
     "execution_count": 7,
     "metadata": {},
     "output_type": "execute_result"
    }
   ],
   "source": [
    "df.columns"
   ]
  },
  {
   "cell_type": "code",
   "execution_count": 8,
   "id": "5395cb19",
   "metadata": {},
   "outputs": [
    {
     "name": "stdout",
     "output_type": "stream",
     "text": [
      "<class 'pandas.core.frame.DataFrame'>\n",
      "RangeIndex: 100 entries, 0 to 99\n",
      "Data columns (total 8 columns):\n",
      " #   Column             Non-Null Count  Dtype \n",
      "---  ------             --------------  ----- \n",
      " 0   Unnamed: 0         100 non-null    int64 \n",
      " 1   S.No               100 non-null    int64 \n",
      " 2   USERNAME           100 non-null    object\n",
      " 3   Caption            94 non-null     object\n",
      " 4   Followers          100 non-null    int64 \n",
      " 5   Hashtags           100 non-null    object\n",
      " 6   Time since posted  100 non-null    object\n",
      " 7   Likes              100 non-null    int64 \n",
      "dtypes: int64(4), object(4)\n",
      "memory usage: 6.4+ KB\n"
     ]
    }
   ],
   "source": [
    "df.info()"
   ]
  },
  {
   "cell_type": "code",
   "execution_count": 9,
   "id": "23bc5c6e",
   "metadata": {},
   "outputs": [
    {
     "name": "stdout",
     "output_type": "stream",
     "text": [
      "No. of unique values in Unnamed: 0 : 27\n",
      "No. of unique values in S.No : 30\n",
      "No. of unique values in USERNAME : 95\n",
      "No. of unique values in Caption : 94\n",
      "No. of unique values in Followers : 94\n",
      "No. of unique values in Hashtags : 98\n",
      "No. of unique values in Time since posted : 11\n",
      "No. of unique values in Likes : 55\n"
     ]
    }
   ],
   "source": [
    "for i in df.columns: \n",
    "    print(f'No. of unique values in {i} : {len(df[i].value_counts())}')"
   ]
  },
  {
   "cell_type": "code",
   "execution_count": 10,
   "id": "9745fe8c",
   "metadata": {},
   "outputs": [],
   "source": [
    "df['Time since posted'] = df['Time since posted'].apply(lambda z : z.split(\" \")[0])"
   ]
  },
  {
   "cell_type": "code",
   "execution_count": 11,
   "id": "006ef162",
   "metadata": {},
   "outputs": [],
   "source": [
    "df['Time since posted'] = df['Time since posted'].astype(int)"
   ]
  },
  {
   "cell_type": "code",
   "execution_count": 12,
   "id": "708792a5",
   "metadata": {},
   "outputs": [
    {
     "data": {
      "text/html": [
       "<div>\n",
       "<style scoped>\n",
       "    .dataframe tbody tr th:only-of-type {\n",
       "        vertical-align: middle;\n",
       "    }\n",
       "\n",
       "    .dataframe tbody tr th {\n",
       "        vertical-align: top;\n",
       "    }\n",
       "\n",
       "    .dataframe thead th {\n",
       "        text-align: right;\n",
       "    }\n",
       "</style>\n",
       "<table border=\"1\" class=\"dataframe\">\n",
       "  <thead>\n",
       "    <tr style=\"text-align: right;\">\n",
       "      <th></th>\n",
       "      <th>Unnamed: 0</th>\n",
       "      <th>S.No</th>\n",
       "      <th>USERNAME</th>\n",
       "      <th>Caption</th>\n",
       "      <th>Followers</th>\n",
       "      <th>Hashtags</th>\n",
       "      <th>Time since posted</th>\n",
       "      <th>Likes</th>\n",
       "    </tr>\n",
       "  </thead>\n",
       "  <tbody>\n",
       "    <tr>\n",
       "      <th>0</th>\n",
       "      <td>0</td>\n",
       "      <td>1</td>\n",
       "      <td>mikequindazzi</td>\n",
       "      <td>Who are #DataScientist and what do they do? &gt;&gt;...</td>\n",
       "      <td>1600</td>\n",
       "      <td>#MachineLearning #AI #DataAnalytics #DataScien...</td>\n",
       "      <td>11</td>\n",
       "      <td>139</td>\n",
       "    </tr>\n",
       "    <tr>\n",
       "      <th>1</th>\n",
       "      <td>1</td>\n",
       "      <td>2</td>\n",
       "      <td>drgorillapaints</td>\n",
       "      <td>We all know where it’s going. We just have to ...</td>\n",
       "      <td>880</td>\n",
       "      <td>#deck .#mac #macintosh#sayhello #apple #steve...</td>\n",
       "      <td>2</td>\n",
       "      <td>23</td>\n",
       "    </tr>\n",
       "    <tr>\n",
       "      <th>2</th>\n",
       "      <td>2</td>\n",
       "      <td>3</td>\n",
       "      <td>aitrading_official</td>\n",
       "      <td>Alexander Barinov: 4 years as CFO in multinati...</td>\n",
       "      <td>255</td>\n",
       "      <td>#whoiswho #aitrading #ai #aitradingteam#instat...</td>\n",
       "      <td>2</td>\n",
       "      <td>25</td>\n",
       "    </tr>\n",
       "    <tr>\n",
       "      <th>3</th>\n",
       "      <td>3</td>\n",
       "      <td>4</td>\n",
       "      <td>opensourcedworkplace</td>\n",
       "      <td>sfad</td>\n",
       "      <td>340</td>\n",
       "      <td>#iot #cre#workplace #CDO #bigdata #technology#...</td>\n",
       "      <td>3</td>\n",
       "      <td>49</td>\n",
       "    </tr>\n",
       "    <tr>\n",
       "      <th>4</th>\n",
       "      <td>4</td>\n",
       "      <td>5</td>\n",
       "      <td>crea.vision</td>\n",
       "      <td>Ever missed a call while your phone was chargi...</td>\n",
       "      <td>304</td>\n",
       "      <td>#instamachinelearning #instabigdata#instamarke...</td>\n",
       "      <td>3</td>\n",
       "      <td>30</td>\n",
       "    </tr>\n",
       "  </tbody>\n",
       "</table>\n",
       "</div>"
      ],
      "text/plain": [
       "   Unnamed: 0  S.No              USERNAME  \\\n",
       "0           0     1         mikequindazzi   \n",
       "1           1     2       drgorillapaints   \n",
       "2           2     3    aitrading_official   \n",
       "3           3     4  opensourcedworkplace   \n",
       "4           4     5           crea.vision   \n",
       "\n",
       "                                             Caption  Followers  \\\n",
       "0  Who are #DataScientist and what do they do? >>...       1600   \n",
       "1  We all know where it’s going. We just have to ...        880   \n",
       "2  Alexander Barinov: 4 years as CFO in multinati...        255   \n",
       "3                                               sfad        340   \n",
       "4  Ever missed a call while your phone was chargi...        304   \n",
       "\n",
       "                                            Hashtags  Time since posted  Likes  \n",
       "0  #MachineLearning #AI #DataAnalytics #DataScien...                 11    139  \n",
       "1   #deck .#mac #macintosh#sayhello #apple #steve...                  2     23  \n",
       "2  #whoiswho #aitrading #ai #aitradingteam#instat...                  2     25  \n",
       "3  #iot #cre#workplace #CDO #bigdata #technology#...                  3     49  \n",
       "4  #instamachinelearning #instabigdata#instamarke...                  3     30  "
      ]
     },
     "execution_count": 12,
     "metadata": {},
     "output_type": "execute_result"
    }
   ],
   "source": [
    "df.head()"
   ]
  },
  {
   "cell_type": "code",
   "execution_count": 13,
   "id": "04079255",
   "metadata": {},
   "outputs": [
    {
     "data": {
      "text/plain": [
       "<AxesSubplot:xlabel='Time since posted', ylabel='Likes'>"
      ]
     },
     "execution_count": 13,
     "metadata": {},
     "output_type": "execute_result"
    },
    {
     "data": {
      "image/png": "[encoded data removed]",
      "text/plain": [
       "<Figure size 432x288 with 1 Axes>"
      ]
     },
     "metadata": {
      "needs_background": "light"
     },
     "output_type": "display_data"
    }
   ],
   "source": [
    "sns.scatterplot(df['Time since posted'], df['Likes'])"
   ]
  },
  {
   "cell_type": "code",
   "execution_count": 14,
   "id": "3f4173f6",
   "metadata": {},
   "outputs": [
    {
     "data": {
      "text/html": [
       "<div>\n",
       "<style scoped>\n",
       "    .dataframe tbody tr th:only-of-type {\n",
       "        vertical-align: middle;\n",
       "    }\n",
       "\n",
       "    .dataframe tbody tr th {\n",
       "        vertical-align: top;\n",
       "    }\n",
       "\n",
       "    .dataframe thead th {\n",
       "        text-align: right;\n",
       "    }\n",
       "</style>\n",
       "<table border=\"1\" class=\"dataframe\">\n",
       "  <thead>\n",
       "    <tr style=\"text-align: right;\">\n",
       "      <th></th>\n",
       "      <th>Unnamed: 0</th>\n",
       "      <th>S.No</th>\n",
       "      <th>Followers</th>\n",
       "      <th>Time since posted</th>\n",
       "      <th>Likes</th>\n",
       "    </tr>\n",
       "  </thead>\n",
       "  <tbody>\n",
       "    <tr>\n",
       "      <th>Unnamed: 0</th>\n",
       "      <td>1.000000</td>\n",
       "      <td>0.869163</td>\n",
       "      <td>0.208473</td>\n",
       "      <td>0.017372</td>\n",
       "      <td>0.010271</td>\n",
       "    </tr>\n",
       "    <tr>\n",
       "      <th>S.No</th>\n",
       "      <td>0.869163</td>\n",
       "      <td>1.000000</td>\n",
       "      <td>0.172002</td>\n",
       "      <td>-0.110024</td>\n",
       "      <td>0.009721</td>\n",
       "    </tr>\n",
       "    <tr>\n",
       "      <th>Followers</th>\n",
       "      <td>0.208473</td>\n",
       "      <td>0.172002</td>\n",
       "      <td>1.000000</td>\n",
       "      <td>0.251154</td>\n",
       "      <td>0.266218</td>\n",
       "    </tr>\n",
       "    <tr>\n",
       "      <th>Time since posted</th>\n",
       "      <td>0.017372</td>\n",
       "      <td>-0.110024</td>\n",
       "      <td>0.251154</td>\n",
       "      <td>1.000000</td>\n",
       "      <td>0.609888</td>\n",
       "    </tr>\n",
       "    <tr>\n",
       "      <th>Likes</th>\n",
       "      <td>0.010271</td>\n",
       "      <td>0.009721</td>\n",
       "      <td>0.266218</td>\n",
       "      <td>0.609888</td>\n",
       "      <td>1.000000</td>\n",
       "    </tr>\n",
       "  </tbody>\n",
       "</table>\n",
       "</div>"
      ],
      "text/plain": [
       "                   Unnamed: 0      S.No  Followers  Time since posted  \\\n",
       "Unnamed: 0           1.000000  0.869163   0.208473           0.017372   \n",
       "S.No                 0.869163  1.000000   0.172002          -0.110024   \n",
       "Followers            0.208473  0.172002   1.000000           0.251154   \n",
       "Time since posted    0.017372 -0.110024   0.251154           1.000000   \n",
       "Likes                0.010271  0.009721   0.266218           0.609888   \n",
       "\n",
       "                      Likes  \n",
       "Unnamed: 0         0.010271  \n",
       "S.No               0.009721  \n",
       "Followers          0.266218  \n",
       "Time since posted  0.609888  \n",
       "Likes              1.000000  "
      ]
     },
     "execution_count": 14,
     "metadata": {},
     "output_type": "execute_result"
    }
   ],
   "source": [
    "df.corr()"
   ]
  },
  {
   "cell_type": "code",
   "execution_count": 15,
   "id": "cb967efd",
   "metadata": {},
   "outputs": [
    {
     "data": {
      "text/plain": [
       "11"
      ]
     },
     "execution_count": 15,
     "metadata": {},
     "output_type": "execute_result"
    }
   ],
   "source": [
    "df['Followers'].min()"
   ]
  },
  {
   "cell_type": "code",
   "execution_count": 16,
   "id": "c3c6a710",
   "metadata": {},
   "outputs": [],
   "source": [
    "df.drop(labels = ['Unnamed: 0', 'S.No', 'USERNAME', 'Time since posted'], axis = 1, inplace = True)"
   ]
  },
  {
   "cell_type": "code",
   "execution_count": 17,
   "id": "6258c650",
   "metadata": {},
   "outputs": [
    {
     "data": {
      "text/html": [
       "<div>\n",
       "<style scoped>\n",
       "    .dataframe tbody tr th:only-of-type {\n",
       "        vertical-align: middle;\n",
       "    }\n",
       "\n",
       "    .dataframe tbody tr th {\n",
       "        vertical-align: top;\n",
       "    }\n",
       "\n",
       "    .dataframe thead th {\n",
       "        text-align: right;\n",
       "    }\n",
       "</style>\n",
       "<table border=\"1\" class=\"dataframe\">\n",
       "  <thead>\n",
       "    <tr style=\"text-align: right;\">\n",
       "      <th></th>\n",
       "      <th>Caption</th>\n",
       "      <th>Followers</th>\n",
       "      <th>Hashtags</th>\n",
       "      <th>Likes</th>\n",
       "    </tr>\n",
       "  </thead>\n",
       "  <tbody>\n",
       "    <tr>\n",
       "      <th>0</th>\n",
       "      <td>Who are #DataScientist and what do they do? &gt;&gt;...</td>\n",
       "      <td>1600</td>\n",
       "      <td>#MachineLearning #AI #DataAnalytics #DataScien...</td>\n",
       "      <td>139</td>\n",
       "    </tr>\n",
       "    <tr>\n",
       "      <th>1</th>\n",
       "      <td>We all know where it’s going. We just have to ...</td>\n",
       "      <td>880</td>\n",
       "      <td>#deck .#mac #macintosh#sayhello #apple #steve...</td>\n",
       "      <td>23</td>\n",
       "    </tr>\n",
       "    <tr>\n",
       "      <th>2</th>\n",
       "      <td>Alexander Barinov: 4 years as CFO in multinati...</td>\n",
       "      <td>255</td>\n",
       "      <td>#whoiswho #aitrading #ai #aitradingteam#instat...</td>\n",
       "      <td>25</td>\n",
       "    </tr>\n",
       "    <tr>\n",
       "      <th>3</th>\n",
       "      <td>sfad</td>\n",
       "      <td>340</td>\n",
       "      <td>#iot #cre#workplace #CDO #bigdata #technology#...</td>\n",
       "      <td>49</td>\n",
       "    </tr>\n",
       "    <tr>\n",
       "      <th>4</th>\n",
       "      <td>Ever missed a call while your phone was chargi...</td>\n",
       "      <td>304</td>\n",
       "      <td>#instamachinelearning #instabigdata#instamarke...</td>\n",
       "      <td>30</td>\n",
       "    </tr>\n",
       "  </tbody>\n",
       "</table>\n",
       "</div>"
      ],
      "text/plain": [
       "                                             Caption  Followers  \\\n",
       "0  Who are #DataScientist and what do they do? >>...       1600   \n",
       "1  We all know where it’s going. We just have to ...        880   \n",
       "2  Alexander Barinov: 4 years as CFO in multinati...        255   \n",
       "3                                               sfad        340   \n",
       "4  Ever missed a call while your phone was chargi...        304   \n",
       "\n",
       "                                            Hashtags  Likes  \n",
       "0  #MachineLearning #AI #DataAnalytics #DataScien...    139  \n",
       "1   #deck .#mac #macintosh#sayhello #apple #steve...     23  \n",
       "2  #whoiswho #aitrading #ai #aitradingteam#instat...     25  \n",
       "3  #iot #cre#workplace #CDO #bigdata #technology#...     49  \n",
       "4  #instamachinelearning #instabigdata#instamarke...     30  "
      ]
     },
     "execution_count": 17,
     "metadata": {},
     "output_type": "execute_result"
    }
   ],
   "source": [
    "df.head()"
   ]
  },
  {
   "cell_type": "code",
   "execution_count": 18,
   "id": "d0ef29d4",
   "metadata": {},
   "outputs": [
    {
     "data": {
      "text/plain": [
       "Caption      6\n",
       "Followers    0\n",
       "Hashtags     0\n",
       "Likes        0\n",
       "dtype: int64"
      ]
     },
     "execution_count": 18,
     "metadata": {},
     "output_type": "execute_result"
    }
   ],
   "source": [
    "df.isnull().sum()"
   ]
  },
  {
   "cell_type": "code",
   "execution_count": 19,
   "id": "0a2d359a",
   "metadata": {},
   "outputs": [
    {
     "name": "stdout",
     "output_type": "stream",
     "text": [
      "<class 'pandas.core.frame.DataFrame'>\n",
      "RangeIndex: 100 entries, 0 to 99\n",
      "Data columns (total 4 columns):\n",
      " #   Column     Non-Null Count  Dtype \n",
      "---  ------     --------------  ----- \n",
      " 0   Caption    94 non-null     object\n",
      " 1   Followers  100 non-null    int64 \n",
      " 2   Hashtags   100 non-null    object\n",
      " 3   Likes      100 non-null    int64 \n",
      "dtypes: int64(2), object(2)\n",
      "memory usage: 3.2+ KB\n"
     ]
    }
   ],
   "source": [
    "df.info()"
   ]
  },
  {
   "cell_type": "code",
   "execution_count": 20,
   "id": "da52c18e",
   "metadata": {},
   "outputs": [
    {
     "data": {
      "text/html": [
       "<div>\n",
       "<style scoped>\n",
       "    .dataframe tbody tr th:only-of-type {\n",
       "        vertical-align: middle;\n",
       "    }\n",
       "\n",
       "    .dataframe tbody tr th {\n",
       "        vertical-align: top;\n",
       "    }\n",
       "\n",
       "    .dataframe thead th {\n",
       "        text-align: right;\n",
       "    }\n",
       "</style>\n",
       "<table border=\"1\" class=\"dataframe\">\n",
       "  <thead>\n",
       "    <tr style=\"text-align: right;\">\n",
       "      <th></th>\n",
       "      <th>Followers</th>\n",
       "      <th>Likes</th>\n",
       "    </tr>\n",
       "  </thead>\n",
       "  <tbody>\n",
       "    <tr>\n",
       "      <th>count</th>\n",
       "      <td>100.00000</td>\n",
       "      <td>100.00000</td>\n",
       "    </tr>\n",
       "    <tr>\n",
       "      <th>mean</th>\n",
       "      <td>961.96000</td>\n",
       "      <td>46.48000</td>\n",
       "    </tr>\n",
       "    <tr>\n",
       "      <th>std</th>\n",
       "      <td>1014.62567</td>\n",
       "      <td>55.08698</td>\n",
       "    </tr>\n",
       "    <tr>\n",
       "      <th>min</th>\n",
       "      <td>11.00000</td>\n",
       "      <td>8.00000</td>\n",
       "    </tr>\n",
       "    <tr>\n",
       "      <th>25%</th>\n",
       "      <td>252.75000</td>\n",
       "      <td>19.00000</td>\n",
       "    </tr>\n",
       "    <tr>\n",
       "      <th>50%</th>\n",
       "      <td>612.00000</td>\n",
       "      <td>29.00000</td>\n",
       "    </tr>\n",
       "    <tr>\n",
       "      <th>75%</th>\n",
       "      <td>1197.00000</td>\n",
       "      <td>46.00000</td>\n",
       "    </tr>\n",
       "    <tr>\n",
       "      <th>max</th>\n",
       "      <td>4496.00000</td>\n",
       "      <td>349.00000</td>\n",
       "    </tr>\n",
       "  </tbody>\n",
       "</table>\n",
       "</div>"
      ],
      "text/plain": [
       "        Followers      Likes\n",
       "count   100.00000  100.00000\n",
       "mean    961.96000   46.48000\n",
       "std    1014.62567   55.08698\n",
       "min      11.00000    8.00000\n",
       "25%     252.75000   19.00000\n",
       "50%     612.00000   29.00000\n",
       "75%    1197.00000   46.00000\n",
       "max    4496.00000  349.00000"
      ]
     },
     "execution_count": 20,
     "metadata": {},
     "output_type": "execute_result"
    }
   ],
   "source": [
    "df.describe()"
   ]
  },
  {
   "cell_type": "code",
   "execution_count": 21,
   "id": "69a906d9",
   "metadata": {},
   "outputs": [
    {
     "data": {
      "text/plain": [
       "<AxesSubplot:xlabel='Likes', ylabel='Count'>"
      ]
     },
     "execution_count": 21,
     "metadata": {},
     "output_type": "execute_result"
    },
    {
     "data": {
      "image/png": "[encoded data removed]",
      "text/plain": [
       "<Figure size 432x288 with 1 Axes>"
      ]
     },
     "metadata": {
      "needs_background": "light"
     },
     "output_type": "display_data"
    }
   ],
   "source": [
    "sns.histplot(df['Likes'])"
   ]
  },
  {
   "cell_type": "code",
   "execution_count": 22,
   "id": "f96a599b",
   "metadata": {},
   "outputs": [
    {
     "data": {
      "text/plain": [
       "<AxesSubplot:xlabel='Followers', ylabel='Count'>"
      ]
     },
     "execution_count": 22,
     "metadata": {},
     "output_type": "execute_result"
    },
    {
     "data": {
      "image/png": "[encoded data removed]",
      "text/plain": [
       "<Figure size 432x288 with 1 Axes>"
      ]
     },
     "metadata": {
      "needs_background": "light"
     },
     "output_type": "display_data"
    }
   ],
   "source": [
    "sns.histplot(df['Followers'])"
   ]
  },
  {
   "cell_type": "code",
   "execution_count": 23,
   "id": "79144852",
   "metadata": {},
   "outputs": [
    {
     "data": {
      "text/plain": [
       "<AxesSubplot:xlabel='Likes', ylabel='Followers'>"
      ]
     },
     "execution_count": 23,
     "metadata": {},
     "output_type": "execute_result"
    },
    {
     "data": {
      "image/png": "[encoded data removed]",
      "text/plain": [
       "<Figure size 432x288 with 1 Axes>"
      ]
     },
     "metadata": {
      "needs_background": "light"
     },
     "output_type": "display_data"
    }
   ],
   "source": [
    "sns.scatterplot(data = df, x = 'Likes', y = 'Followers')"
   ]
  },
  {
   "cell_type": "code",
   "execution_count": 24,
   "id": "ebcac686",
   "metadata": {},
   "outputs": [
    {
     "data": {
      "image/png": "[encoded data removed]",
      "text/plain": [
       "<Figure size 1440x288 with 2 Axes>"
      ]
     },
     "metadata": {
      "needs_background": "light"
     },
     "output_type": "display_data"
    }
   ],
   "source": [
    "nf = ['Followers', 'Likes']\n",
    "\n",
    "fig, axes = plt.subplots(1,2, figsize = (20,4))\n",
    "\n",
    "\n",
    "for i in range(len(nf)): \n",
    "    sns.boxplot(df[nf[i]], ax = axes[i] )"
   ]
  },
  {
   "cell_type": "markdown",
   "id": "a8cf3cf4",
   "metadata": {},
   "source": [
    "**Observation :**  \n",
    "\n",
    "- This data contains 100 instances. The data contains numerical and textual data. From the histrogram plots, it is observed that the numerical features are not distributed normally. The aim of this analysis is to predict 'Likes' from the input feature 'Followers', 'Caption' and 'Hashtags'. \n",
    "\n",
    "\n",
    "- 'Followers' and 'Likes' have somewhat positive correlation, but is not very significant/strong. \n",
    "\n",
    "\n",
    "- Also, it can be seen that we have outliers in our data. "
   ]
  },
  {
   "cell_type": "markdown",
   "id": "7d8f5dd9",
   "metadata": {},
   "source": [
    "## Analysis Strategy : \n",
    "\n",
    "- First and foremost we need to transform the text data to vectors to perform a regression analysis. It is observed that we have long texts in 'Caption'. In 'Hashtags' we can assume that the hashtags actually contains important informations. So, throught out the textual analysis, we will consider 'Hashtags' data. \n",
    "\n",
    "- As we have non-normal data, we need to transform it to perform  regression analysis. \n",
    "\n",
    "- We also observe that the data set is small (only 100 instances). So, we need to check that whether we should remove the outliers and then build a model or we use RobustScalar and then build a model. \n"
   ]
  },
  {
   "cell_type": "markdown",
   "id": "df5bf856",
   "metadata": {},
   "source": [
    "###  Remove outliers : "
   ]
  },
  {
   "cell_type": "code",
   "execution_count": 25,
   "id": "881be6d0",
   "metadata": {},
   "outputs": [
    {
     "name": "stdout",
     "output_type": "stream",
     "text": [
      "Followers    944.25\n",
      "Likes         27.00\n",
      "dtype: float64\n",
      "-----------------------\n",
      "(79, 4)\n",
      "------------------------\n"
     ]
    },
    {
     "data": {
      "image/png": "[encoded data removed]",
      "text/plain": [
       "<Figure size 1440x288 with 2 Axes>"
      ]
     },
     "metadata": {
      "needs_background": "light"
     },
     "output_type": "display_data"
    }
   ],
   "source": [
    "df2 = df.copy()\n",
    "#l_feat = df2.columns\n",
    "\n",
    "# putting limits \n",
    "Q1 = df2.quantile(0.25)\n",
    "Q3 = df2.quantile(0.75)\n",
    "IQR = Q3 - Q1\n",
    "print(IQR)\n",
    "print('-----------------------')\n",
    "# removing outliers\n",
    "df2_out = df2[~((df2 < (Q1 - 1.5 * IQR)) |\n",
    "                (df2 > (Q3 + 1.5 * IQR))).any(axis=1)]\n",
    "print(df2_out.shape)\n",
    "print('------------------------')\n",
    "\n",
    "\n",
    "\n",
    "#plotting : \n",
    "fig, axes = plt.subplots(1,2, figsize=(20,4))\n",
    "\n",
    "for i in range (len(nf)):\n",
    "    sns.boxplot(df2_out[nf[i]],  ax = axes[i])\n",
    "    \n",
    "plt.show()    \n"
   ]
  },
  {
   "cell_type": "code",
   "execution_count": 26,
   "id": "df14cf2a",
   "metadata": {},
   "outputs": [
    {
     "data": {
      "text/html": [
       "<div>\n",
       "<style scoped>\n",
       "    .dataframe tbody tr th:only-of-type {\n",
       "        vertical-align: middle;\n",
       "    }\n",
       "\n",
       "    .dataframe tbody tr th {\n",
       "        vertical-align: top;\n",
       "    }\n",
       "\n",
       "    .dataframe thead th {\n",
       "        text-align: right;\n",
       "    }\n",
       "</style>\n",
       "<table border=\"1\" class=\"dataframe\">\n",
       "  <thead>\n",
       "    <tr style=\"text-align: right;\">\n",
       "      <th></th>\n",
       "      <th>Caption</th>\n",
       "      <th>Followers</th>\n",
       "      <th>Hashtags</th>\n",
       "      <th>Likes</th>\n",
       "    </tr>\n",
       "  </thead>\n",
       "  <tbody>\n",
       "    <tr>\n",
       "      <th>1</th>\n",
       "      <td>We all know where it’s going. We just have to ...</td>\n",
       "      <td>880</td>\n",
       "      <td>#deck .#mac #macintosh#sayhello #apple #steve...</td>\n",
       "      <td>23</td>\n",
       "    </tr>\n",
       "    <tr>\n",
       "      <th>2</th>\n",
       "      <td>Alexander Barinov: 4 years as CFO in multinati...</td>\n",
       "      <td>255</td>\n",
       "      <td>#whoiswho #aitrading #ai #aitradingteam#instat...</td>\n",
       "      <td>25</td>\n",
       "    </tr>\n",
       "    <tr>\n",
       "      <th>3</th>\n",
       "      <td>sfad</td>\n",
       "      <td>340</td>\n",
       "      <td>#iot #cre#workplace #CDO #bigdata #technology#...</td>\n",
       "      <td>49</td>\n",
       "    </tr>\n",
       "    <tr>\n",
       "      <th>4</th>\n",
       "      <td>Ever missed a call while your phone was chargi...</td>\n",
       "      <td>304</td>\n",
       "      <td>#instamachinelearning #instabigdata#instamarke...</td>\n",
       "      <td>30</td>\n",
       "    </tr>\n",
       "    <tr>\n",
       "      <th>5</th>\n",
       "      <td>Cyber attacks are more frequent every day and ...</td>\n",
       "      <td>1231</td>\n",
       "      <td>#edtech #learning#educationtechnology #tech #l...</td>\n",
       "      <td>18</td>\n",
       "    </tr>\n",
       "  </tbody>\n",
       "</table>\n",
       "</div>"
      ],
      "text/plain": [
       "                                             Caption  Followers  \\\n",
       "1  We all know where it’s going. We just have to ...        880   \n",
       "2  Alexander Barinov: 4 years as CFO in multinati...        255   \n",
       "3                                               sfad        340   \n",
       "4  Ever missed a call while your phone was chargi...        304   \n",
       "5  Cyber attacks are more frequent every day and ...       1231   \n",
       "\n",
       "                                            Hashtags  Likes  \n",
       "1   #deck .#mac #macintosh#sayhello #apple #steve...     23  \n",
       "2  #whoiswho #aitrading #ai #aitradingteam#instat...     25  \n",
       "3  #iot #cre#workplace #CDO #bigdata #technology#...     49  \n",
       "4  #instamachinelearning #instabigdata#instamarke...     30  \n",
       "5  #edtech #learning#educationtechnology #tech #l...     18  "
      ]
     },
     "execution_count": 26,
     "metadata": {},
     "output_type": "execute_result"
    }
   ],
   "source": [
    "df2_out.head()"
   ]
  },
  {
   "cell_type": "code",
   "execution_count": 27,
   "id": "414e916e",
   "metadata": {},
   "outputs": [
    {
     "data": {
      "image/png": "[encoded data removed]",
      "text/plain": [
       "<Figure size 1440x288 with 2 Axes>"
      ]
     },
     "metadata": {
      "needs_background": "light"
     },
     "output_type": "display_data"
    }
   ],
   "source": [
    "fig, axes = plt.subplots(1,2, figsize=(20,4))\n",
    "\n",
    "for i in range(len(nf)) : \n",
    "    sns.histplot(df2_out[nf[i]], ax = axes[i])"
   ]
  },
  {
   "cell_type": "markdown",
   "id": "7721371f",
   "metadata": {},
   "source": [
    "#### We will make a new dataframe with just likes, captions and hashtags. we will see if the length of caption, or hashtag topics or word_freq in caption or hashtags has anything to do with the number of likes."
   ]
  },
  {
   "cell_type": "code",
   "execution_count": 28,
   "id": "db6fd1eb",
   "metadata": {},
   "outputs": [],
   "source": [
    "df1 = df2_out.copy() ##  we take the data without outliers. \n",
    "#df1 = df.copy() # we take the data with outliers. "
   ]
  },
  {
   "cell_type": "code",
   "execution_count": 29,
   "id": "792be166",
   "metadata": {},
   "outputs": [
    {
     "data": {
      "text/plain": [
       "(79, 4)"
      ]
     },
     "execution_count": 29,
     "metadata": {},
     "output_type": "execute_result"
    }
   ],
   "source": [
    "df1.shape"
   ]
  },
  {
   "cell_type": "code",
   "execution_count": 30,
   "id": "282be614",
   "metadata": {},
   "outputs": [],
   "source": [
    "df1.dropna(inplace=True)"
   ]
  },
  {
   "cell_type": "code",
   "execution_count": 31,
   "id": "e0b09698",
   "metadata": {},
   "outputs": [
    {
     "name": "stdout",
     "output_type": "stream",
     "text": [
      "We all know where it’s going. We just have to #workresponsibly to postpone the date. This actually made into a business slide #deck .#mac #macintosh#sayhello #apple #stevejobs #ai #evolution#artificialintelligence #machinelearning#terminator #illbeback #technology#computerevolution #computerscience#sciencefiction#computersciencetosciencefiction#tomorrowstechnology #vr #ar #robot#robots #t2 #businessdeck #businessslides#illustration #sketches #drawing\n"
     ]
    }
   ],
   "source": [
    "print(df1['Caption'][1])"
   ]
  },
  {
   "cell_type": "markdown",
   "id": "b19d2174",
   "metadata": {},
   "source": [
    "#### If we observe keenly, it can be seen that the main challenge with this data is to find out the actual words/meaningful words from the hashtag data and the caption data. For example, in the above text, we have normal meaningful words (by meaningful words I mean the words for which we can find the meaning in dictionary). Along with that we have some words like  `#computerevolution`, `#computersciencetosciencefiction`, `#tomorrowstechnology` and many more. This data contains many more examples like that. \n",
    "\n",
    "\n",
    "#### The 'Caption' and 'Hashtags' columns need to clean and then the first task is to break this words into meaningful words before vectorizing the text. For splitting/breaking the compund words/lengthy words this we will use `wordninja` library.\n",
    "\n",
    "\n",
    "## Cleaning text and Vectorization"
   ]
  },
  {
   "cell_type": "code",
   "execution_count": 32,
   "id": "7ef466b9",
   "metadata": {},
   "outputs": [],
   "source": [
    "import wordninja"
   ]
  },
  {
   "cell_type": "code",
   "execution_count": 33,
   "id": "bcf21d61",
   "metadata": {},
   "outputs": [],
   "source": [
    "def cleaning_process(text1) :\n",
    "    text = text1\n",
    "    #print(text)\n",
    "    if type(text) == str : \n",
    "        text = re.sub(r\"http\\S+\", \"\", text) # removing url\n",
    "        \n",
    "        emoji_pattern = re.compile(\"[\"\n",
    "        u\"\\U0001F600-\\U0001F64F\"  # emoticons\n",
    "        u\"\\U0001F300-\\U0001F5FF\"  # symbols & pictographs\n",
    "        u\"\\U0001F680-\\U0001F6FF\"  # transport & map symbols\n",
    "        u\"\\U0001F1E0-\\U0001F1FF\"  # flags (iOS)\n",
    "                           \"]+\", flags=re.UNICODE)\n",
    "        #print(emoji_pattern.sub(r'', text)) # no emoji\n",
    "        text = emoji_pattern.sub(r'', text)\n",
    "        \n",
    "        nopunc = [char for char in text if char not in string.punctuation] # removing punctuation\n",
    "        text = ''.join(nopunc)\n",
    "        \n",
    "        text = ''.join([i for i in text if not i.isdigit()]) # removing digits\n",
    "        \n",
    "        text = text.lower()\n",
    "        \n",
    "        tokens = nltk.word_tokenize(text)\n",
    "        tokens = [w for w in tokens if w not in stopwords.words('english')]\n",
    "        #tokens = nltk.word_tokenize(text)\n",
    "        \n",
    "        #lematizer = WordNetLemmatizer()\n",
    "        #ps = PorterStemmer()\n",
    "        #lem_text = [lematizer.lemmatize(i) for i in tokens]\n",
    "        #stem_text = [ps.stem(i) for i in lem_text]\n",
    "        text = ' '.join(tokens)\n",
    "                \n",
    "        return text\n",
    "    \n",
    "    return None"
   ]
  },
  {
   "cell_type": "code",
   "execution_count": 34,
   "id": "251963ca",
   "metadata": {},
   "outputs": [],
   "source": [
    "df1['cleaned_caption'] = df1['Caption'].apply(cleaning_process)"
   ]
  },
  {
   "cell_type": "code",
   "execution_count": 35,
   "id": "86da38d1",
   "metadata": {},
   "outputs": [],
   "source": [
    "df1['cleaned_hastags'] = df1['Hashtags'].apply(cleaning_process)"
   ]
  },
  {
   "cell_type": "code",
   "execution_count": 36,
   "id": "36e25853",
   "metadata": {},
   "outputs": [
    {
     "data": {
      "text/html": [
       "<div>\n",
       "<style scoped>\n",
       "    .dataframe tbody tr th:only-of-type {\n",
       "        vertical-align: middle;\n",
       "    }\n",
       "\n",
       "    .dataframe tbody tr th {\n",
       "        vertical-align: top;\n",
       "    }\n",
       "\n",
       "    .dataframe thead th {\n",
       "        text-align: right;\n",
       "    }\n",
       "</style>\n",
       "<table border=\"1\" class=\"dataframe\">\n",
       "  <thead>\n",
       "    <tr style=\"text-align: right;\">\n",
       "      <th></th>\n",
       "      <th>Caption</th>\n",
       "      <th>Followers</th>\n",
       "      <th>Hashtags</th>\n",
       "      <th>Likes</th>\n",
       "      <th>cleaned_caption</th>\n",
       "      <th>cleaned_hastags</th>\n",
       "    </tr>\n",
       "  </thead>\n",
       "  <tbody>\n",
       "    <tr>\n",
       "      <th>1</th>\n",
       "      <td>We all know where it’s going. We just have to ...</td>\n",
       "      <td>880</td>\n",
       "      <td>#deck .#mac #macintosh#sayhello #apple #steve...</td>\n",
       "      <td>23</td>\n",
       "      <td>know ’ going workresponsibly postpone date act...</td>\n",
       "      <td>deck mac macintoshsayhello apple stevejobs ai ...</td>\n",
       "    </tr>\n",
       "    <tr>\n",
       "      <th>2</th>\n",
       "      <td>Alexander Barinov: 4 years as CFO in multinati...</td>\n",
       "      <td>255</td>\n",
       "      <td>#whoiswho #aitrading #ai #aitradingteam#instat...</td>\n",
       "      <td>25</td>\n",
       "      <td>alexander barinov years cfo multinationals yea...</td>\n",
       "      <td>whoiswho aitrading ai aitradingteaminstateam i...</td>\n",
       "    </tr>\n",
       "    <tr>\n",
       "      <th>3</th>\n",
       "      <td>sfad</td>\n",
       "      <td>340</td>\n",
       "      <td>#iot #cre#workplace #CDO #bigdata #technology#...</td>\n",
       "      <td>49</td>\n",
       "      <td>sfad</td>\n",
       "      <td>iot creworkplace cdo bigdata technologytech wo...</td>\n",
       "    </tr>\n",
       "    <tr>\n",
       "      <th>4</th>\n",
       "      <td>Ever missed a call while your phone was chargi...</td>\n",
       "      <td>304</td>\n",
       "      <td>#instamachinelearning #instabigdata#instamarke...</td>\n",
       "      <td>30</td>\n",
       "      <td>ever missed call phone charging system notify ...</td>\n",
       "      <td>instamachinelearning instabigdatainstamarketin...</td>\n",
       "    </tr>\n",
       "    <tr>\n",
       "      <th>5</th>\n",
       "      <td>Cyber attacks are more frequent every day and ...</td>\n",
       "      <td>1231</td>\n",
       "      <td>#edtech #learning#educationtechnology #tech #l...</td>\n",
       "      <td>18</td>\n",
       "      <td>cyber attacks frequent every day affect busine...</td>\n",
       "      <td>edtech learningeducationtechnology tech learnn...</td>\n",
       "    </tr>\n",
       "  </tbody>\n",
       "</table>\n",
       "</div>"
      ],
      "text/plain": [
       "                                             Caption  Followers  \\\n",
       "1  We all know where it’s going. We just have to ...        880   \n",
       "2  Alexander Barinov: 4 years as CFO in multinati...        255   \n",
       "3                                               sfad        340   \n",
       "4  Ever missed a call while your phone was chargi...        304   \n",
       "5  Cyber attacks are more frequent every day and ...       1231   \n",
       "\n",
       "                                            Hashtags  Likes  \\\n",
       "1   #deck .#mac #macintosh#sayhello #apple #steve...     23   \n",
       "2  #whoiswho #aitrading #ai #aitradingteam#instat...     25   \n",
       "3  #iot #cre#workplace #CDO #bigdata #technology#...     49   \n",
       "4  #instamachinelearning #instabigdata#instamarke...     30   \n",
       "5  #edtech #learning#educationtechnology #tech #l...     18   \n",
       "\n",
       "                                     cleaned_caption  \\\n",
       "1  know ’ going workresponsibly postpone date act...   \n",
       "2  alexander barinov years cfo multinationals yea...   \n",
       "3                                               sfad   \n",
       "4  ever missed call phone charging system notify ...   \n",
       "5  cyber attacks frequent every day affect busine...   \n",
       "\n",
       "                                     cleaned_hastags  \n",
       "1  deck mac macintoshsayhello apple stevejobs ai ...  \n",
       "2  whoiswho aitrading ai aitradingteaminstateam i...  \n",
       "3  iot creworkplace cdo bigdata technologytech wo...  \n",
       "4  instamachinelearning instabigdatainstamarketin...  \n",
       "5  edtech learningeducationtechnology tech learnn...  "
      ]
     },
     "execution_count": 36,
     "metadata": {},
     "output_type": "execute_result"
    }
   ],
   "source": [
    "df1.head()"
   ]
  },
  {
   "cell_type": "code",
   "execution_count": 37,
   "id": "85986e95",
   "metadata": {},
   "outputs": [],
   "source": [
    "df1['cleaned_caption'] = df1['cleaned_caption'].apply(lambda x : ' '.join(wordninja.split(x)))"
   ]
  },
  {
   "cell_type": "code",
   "execution_count": 38,
   "id": "6658e12f",
   "metadata": {},
   "outputs": [],
   "source": [
    "df1['cleaned_hastags'] = df1['cleaned_hastags'].apply(lambda x : ' '.join(wordninja.split(x)))"
   ]
  },
  {
   "cell_type": "code",
   "execution_count": 39,
   "id": "3623b8b6",
   "metadata": {},
   "outputs": [
    {
     "data": {
      "text/html": [
       "<div>\n",
       "<style scoped>\n",
       "    .dataframe tbody tr th:only-of-type {\n",
       "        vertical-align: middle;\n",
       "    }\n",
       "\n",
       "    .dataframe tbody tr th {\n",
       "        vertical-align: top;\n",
       "    }\n",
       "\n",
       "    .dataframe thead th {\n",
       "        text-align: right;\n",
       "    }\n",
       "</style>\n",
       "<table border=\"1\" class=\"dataframe\">\n",
       "  <thead>\n",
       "    <tr style=\"text-align: right;\">\n",
       "      <th></th>\n",
       "      <th>Caption</th>\n",
       "      <th>Followers</th>\n",
       "      <th>Hashtags</th>\n",
       "      <th>Likes</th>\n",
       "      <th>cleaned_caption</th>\n",
       "      <th>cleaned_hastags</th>\n",
       "    </tr>\n",
       "  </thead>\n",
       "  <tbody>\n",
       "    <tr>\n",
       "      <th>1</th>\n",
       "      <td>We all know where it’s going. We just have to ...</td>\n",
       "      <td>880</td>\n",
       "      <td>#deck .#mac #macintosh#sayhello #apple #steve...</td>\n",
       "      <td>23</td>\n",
       "      <td>know going work responsibly postpone date actu...</td>\n",
       "      <td>deck mac macintosh say hello apple steve jobs ...</td>\n",
       "    </tr>\n",
       "    <tr>\n",
       "      <th>2</th>\n",
       "      <td>Alexander Barinov: 4 years as CFO in multinati...</td>\n",
       "      <td>255</td>\n",
       "      <td>#whoiswho #aitrading #ai #aitradingteam#instat...</td>\n",
       "      <td>25</td>\n",
       "      <td>alexander bari nov years cf o multinationals y...</td>\n",
       "      <td>who is who a i trading a i a i trading team in...</td>\n",
       "    </tr>\n",
       "    <tr>\n",
       "      <th>3</th>\n",
       "      <td>sfad</td>\n",
       "      <td>340</td>\n",
       "      <td>#iot #cre#workplace #CDO #bigdata #technology#...</td>\n",
       "      <td>49</td>\n",
       "      <td>s fad</td>\n",
       "      <td>i ot c re workplace cdo big data technology te...</td>\n",
       "    </tr>\n",
       "    <tr>\n",
       "      <th>4</th>\n",
       "      <td>Ever missed a call while your phone was chargi...</td>\n",
       "      <td>304</td>\n",
       "      <td>#instamachinelearning #instabigdata#instamarke...</td>\n",
       "      <td>30</td>\n",
       "      <td>ever missed call phone charging system notify ...</td>\n",
       "      <td>insta machine learning insta big data insta ma...</td>\n",
       "    </tr>\n",
       "    <tr>\n",
       "      <th>5</th>\n",
       "      <td>Cyber attacks are more frequent every day and ...</td>\n",
       "      <td>1231</td>\n",
       "      <td>#edtech #learning#educationtechnology #tech #l...</td>\n",
       "      <td>18</td>\n",
       "      <td>cyber attacks frequent every day affect busine...</td>\n",
       "      <td>ed tech learning education technology tech lea...</td>\n",
       "    </tr>\n",
       "  </tbody>\n",
       "</table>\n",
       "</div>"
      ],
      "text/plain": [
       "                                             Caption  Followers  \\\n",
       "1  We all know where it’s going. We just have to ...        880   \n",
       "2  Alexander Barinov: 4 years as CFO in multinati...        255   \n",
       "3                                               sfad        340   \n",
       "4  Ever missed a call while your phone was chargi...        304   \n",
       "5  Cyber attacks are more frequent every day and ...       1231   \n",
       "\n",
       "                                            Hashtags  Likes  \\\n",
       "1   #deck .#mac #macintosh#sayhello #apple #steve...     23   \n",
       "2  #whoiswho #aitrading #ai #aitradingteam#instat...     25   \n",
       "3  #iot #cre#workplace #CDO #bigdata #technology#...     49   \n",
       "4  #instamachinelearning #instabigdata#instamarke...     30   \n",
       "5  #edtech #learning#educationtechnology #tech #l...     18   \n",
       "\n",
       "                                     cleaned_caption  \\\n",
       "1  know going work responsibly postpone date actu...   \n",
       "2  alexander bari nov years cf o multinationals y...   \n",
       "3                                              s fad   \n",
       "4  ever missed call phone charging system notify ...   \n",
       "5  cyber attacks frequent every day affect busine...   \n",
       "\n",
       "                                     cleaned_hastags  \n",
       "1  deck mac macintosh say hello apple steve jobs ...  \n",
       "2  who is who a i trading a i a i trading team in...  \n",
       "3  i ot c re workplace cdo big data technology te...  \n",
       "4  insta machine learning insta big data insta ma...  \n",
       "5  ed tech learning education technology tech lea...  "
      ]
     },
     "execution_count": 39,
     "metadata": {},
     "output_type": "execute_result"
    }
   ],
   "source": [
    "df1.head()"
   ]
  },
  {
   "cell_type": "code",
   "execution_count": 40,
   "id": "e538b78e",
   "metadata": {},
   "outputs": [],
   "source": [
    "X1 = df1['cleaned_hastags']"
   ]
  },
  {
   "cell_type": "code",
   "execution_count": 41,
   "id": "3ace74d3",
   "metadata": {},
   "outputs": [],
   "source": [
    "tfidf = TfidfVectorizer(lowercase=False)\n",
    "#tfidf = CountVectorizer()\n",
    "text_vect = tfidf.fit_transform(X1)"
   ]
  },
  {
   "cell_type": "code",
   "execution_count": 42,
   "id": "5d53b6ec",
   "metadata": {},
   "outputs": [],
   "source": [
    "#tfidf.vocabulary_"
   ]
  },
  {
   "cell_type": "code",
   "execution_count": 43,
   "id": "59ebc475",
   "metadata": {},
   "outputs": [],
   "source": [
    "#list(tfidf.vocabulary_.values())[:10]"
   ]
  },
  {
   "cell_type": "code",
   "execution_count": 44,
   "id": "72d9c1d4",
   "metadata": {},
   "outputs": [],
   "source": [
    "#print(sorted(tfidf.vocabulary_, key = lambda x : (x[0]), reverse = True))"
   ]
  },
  {
   "cell_type": "code",
   "execution_count": 45,
   "id": "ad0106ab",
   "metadata": {},
   "outputs": [],
   "source": [
    "# finding weightage of words : \n",
    "\n",
    "#print('\\nidf values:')\n",
    "#for ele1, ele2 in zip(tfidf.get_feature_names(), tfidf.idf_):\n",
    "#    print(ele1, ':', ele2)"
   ]
  },
  {
   "cell_type": "code",
   "execution_count": 46,
   "id": "f564d76a",
   "metadata": {},
   "outputs": [
    {
     "data": {
      "text/plain": [
       "877"
      ]
     },
     "execution_count": 46,
     "metadata": {},
     "output_type": "execute_result"
    }
   ],
   "source": [
    "#len(tfidf.idf_)\n",
    "\n",
    "len(tfidf.vocabulary_)"
   ]
  },
  {
   "cell_type": "code",
   "execution_count": 47,
   "id": "c9a2e1f0",
   "metadata": {},
   "outputs": [],
   "source": [
    "#(tfidf.vocabulary_)"
   ]
  },
  {
   "cell_type": "code",
   "execution_count": 48,
   "id": "d0e94109",
   "metadata": {},
   "outputs": [
    {
     "data": {
      "text/plain": [
       "877"
      ]
     },
     "execution_count": 48,
     "metadata": {},
     "output_type": "execute_result"
    }
   ],
   "source": [
    "len(tfidf.get_feature_names())"
   ]
  },
  {
   "cell_type": "code",
   "execution_count": 49,
   "id": "1ee03551",
   "metadata": {},
   "outputs": [],
   "source": [
    "#tfidf.vocabulary_['youtube']"
   ]
  },
  {
   "cell_type": "code",
   "execution_count": 50,
   "id": "2d105ace",
   "metadata": {},
   "outputs": [],
   "source": [
    "words_idf_dict = dict()\n",
    "words_list = tfidf.get_feature_names()\n",
    "idf_list = tfidf.idf_\n",
    "words_idf_dict = {words_list[i]:idf_list[i] for i in range(len(words_list))}        "
   ]
  },
  {
   "cell_type": "code",
   "execution_count": 51,
   "id": "dc3e49de",
   "metadata": {},
   "outputs": [],
   "source": [
    "#words_idf_dict"
   ]
  },
  {
   "cell_type": "markdown",
   "id": "7b000873",
   "metadata": {},
   "source": [
    "#### As we can see that we have idf score for each and every word. The idea is to exploit this fact and find how 'Likes' are given for the text data, i.e. which kind of text gets more likes and otherwise. To do this we will find the  mean idf score for each instance and find that if there is any relation with this with the number of 'Likes'. "
   ]
  },
  {
   "cell_type": "code",
   "execution_count": 52,
   "id": "25b7c7d7",
   "metadata": {},
   "outputs": [],
   "source": [
    "def get_idf_scores(text) : \n",
    "    #print(text)\n",
    "    t2 = nltk.word_tokenize(text)\n",
    "    #print(t2)\n",
    "    #t2 = [w.lower() for w in t2]\n",
    "    #t2 = [w for w in t2 if not w in stopwords.words('english')]\n",
    "\n",
    "    \n",
    "    #lematizer = WordNetLemmatizer()\n",
    "    #ps = PorterStemmer()\n",
    "    #t2 = [lematizer.lemmatize(i) for i in t2]\n",
    "    #stem_text = [ps.stem(i) for i in lem_text]\n",
    "    #text = ' '.join(lem_text)\n",
    "                \n",
    "    \n",
    "    \n",
    "    \n",
    "    #idf_list = [words_idf_dict[w.lower()] for w in t2]\n",
    "    idf_list = [words_idf_dict[w] for w in t2 if len(w) > 1]\n",
    "    avg_idf = np.mean(idf_list)\n",
    "    #avg_idf = sorted(idf_list, reverse = True)[:3]\n",
    "    return avg_idf\n",
    "\n"
   ]
  },
  {
   "cell_type": "code",
   "execution_count": null,
   "id": "0e03b4bf",
   "metadata": {},
   "outputs": [],
   "source": []
  },
  {
   "cell_type": "code",
   "execution_count": 53,
   "id": "e18f72aa",
   "metadata": {},
   "outputs": [],
   "source": [
    "#t1 = df1['cleaned_hastags'][1]\n",
    "#print(t1)"
   ]
  },
  {
   "cell_type": "code",
   "execution_count": 54,
   "id": "d0e6f740",
   "metadata": {},
   "outputs": [],
   "source": [
    "#print(df1['cleaned_caption'][0])"
   ]
  },
  {
   "cell_type": "code",
   "execution_count": 55,
   "id": "7f98bba0",
   "metadata": {},
   "outputs": [],
   "source": [
    "df1['avg_idf'] = df1['cleaned_hastags'].apply(get_idf_scores)"
   ]
  },
  {
   "cell_type": "code",
   "execution_count": 56,
   "id": "5044b90a",
   "metadata": {},
   "outputs": [
    {
     "data": {
      "text/html": [
       "<div>\n",
       "<style scoped>\n",
       "    .dataframe tbody tr th:only-of-type {\n",
       "        vertical-align: middle;\n",
       "    }\n",
       "\n",
       "    .dataframe tbody tr th {\n",
       "        vertical-align: top;\n",
       "    }\n",
       "\n",
       "    .dataframe thead th {\n",
       "        text-align: right;\n",
       "    }\n",
       "</style>\n",
       "<table border=\"1\" class=\"dataframe\">\n",
       "  <thead>\n",
       "    <tr style=\"text-align: right;\">\n",
       "      <th></th>\n",
       "      <th>Caption</th>\n",
       "      <th>Followers</th>\n",
       "      <th>Hashtags</th>\n",
       "      <th>Likes</th>\n",
       "      <th>cleaned_caption</th>\n",
       "      <th>cleaned_hastags</th>\n",
       "      <th>avg_idf</th>\n",
       "    </tr>\n",
       "  </thead>\n",
       "  <tbody>\n",
       "    <tr>\n",
       "      <th>1</th>\n",
       "      <td>We all know where it’s going. We just have to ...</td>\n",
       "      <td>880</td>\n",
       "      <td>#deck .#mac #macintosh#sayhello #apple #steve...</td>\n",
       "      <td>23</td>\n",
       "      <td>know going work responsibly postpone date actu...</td>\n",
       "      <td>deck mac macintosh say hello apple steve jobs ...</td>\n",
       "      <td>3.771254</td>\n",
       "    </tr>\n",
       "    <tr>\n",
       "      <th>2</th>\n",
       "      <td>Alexander Barinov: 4 years as CFO in multinati...</td>\n",
       "      <td>255</td>\n",
       "      <td>#whoiswho #aitrading #ai #aitradingteam#instat...</td>\n",
       "      <td>25</td>\n",
       "      <td>alexander bari nov years cf o multinationals y...</td>\n",
       "      <td>who is who a i trading a i a i trading team in...</td>\n",
       "      <td>3.055729</td>\n",
       "    </tr>\n",
       "    <tr>\n",
       "      <th>3</th>\n",
       "      <td>sfad</td>\n",
       "      <td>340</td>\n",
       "      <td>#iot #cre#workplace #CDO #bigdata #technology#...</td>\n",
       "      <td>49</td>\n",
       "      <td>s fad</td>\n",
       "      <td>i ot c re workplace cdo big data technology te...</td>\n",
       "      <td>3.428281</td>\n",
       "    </tr>\n",
       "    <tr>\n",
       "      <th>4</th>\n",
       "      <td>Ever missed a call while your phone was chargi...</td>\n",
       "      <td>304</td>\n",
       "      <td>#instamachinelearning #instabigdata#instamarke...</td>\n",
       "      <td>30</td>\n",
       "      <td>ever missed call phone charging system notify ...</td>\n",
       "      <td>insta machine learning insta big data insta ma...</td>\n",
       "      <td>2.958244</td>\n",
       "    </tr>\n",
       "    <tr>\n",
       "      <th>5</th>\n",
       "      <td>Cyber attacks are more frequent every day and ...</td>\n",
       "      <td>1231</td>\n",
       "      <td>#edtech #learning#educationtechnology #tech #l...</td>\n",
       "      <td>18</td>\n",
       "      <td>cyber attacks frequent every day affect busine...</td>\n",
       "      <td>ed tech learning education technology tech lea...</td>\n",
       "      <td>3.336452</td>\n",
       "    </tr>\n",
       "  </tbody>\n",
       "</table>\n",
       "</div>"
      ],
      "text/plain": [
       "                                             Caption  Followers  \\\n",
       "1  We all know where it’s going. We just have to ...        880   \n",
       "2  Alexander Barinov: 4 years as CFO in multinati...        255   \n",
       "3                                               sfad        340   \n",
       "4  Ever missed a call while your phone was chargi...        304   \n",
       "5  Cyber attacks are more frequent every day and ...       1231   \n",
       "\n",
       "                                            Hashtags  Likes  \\\n",
       "1   #deck .#mac #macintosh#sayhello #apple #steve...     23   \n",
       "2  #whoiswho #aitrading #ai #aitradingteam#instat...     25   \n",
       "3  #iot #cre#workplace #CDO #bigdata #technology#...     49   \n",
       "4  #instamachinelearning #instabigdata#instamarke...     30   \n",
       "5  #edtech #learning#educationtechnology #tech #l...     18   \n",
       "\n",
       "                                     cleaned_caption  \\\n",
       "1  know going work responsibly postpone date actu...   \n",
       "2  alexander bari nov years cf o multinationals y...   \n",
       "3                                              s fad   \n",
       "4  ever missed call phone charging system notify ...   \n",
       "5  cyber attacks frequent every day affect busine...   \n",
       "\n",
       "                                     cleaned_hastags   avg_idf  \n",
       "1  deck mac macintosh say hello apple steve jobs ...  3.771254  \n",
       "2  who is who a i trading a i a i trading team in...  3.055729  \n",
       "3  i ot c re workplace cdo big data technology te...  3.428281  \n",
       "4  insta machine learning insta big data insta ma...  2.958244  \n",
       "5  ed tech learning education technology tech lea...  3.336452  "
      ]
     },
     "execution_count": 56,
     "metadata": {},
     "output_type": "execute_result"
    }
   ],
   "source": [
    "df1.head()"
   ]
  },
  {
   "cell_type": "markdown",
   "id": "00b066d8",
   "metadata": {},
   "source": [
    "#### Creating new variables which includes the length of Caption and Hashtags and sentiment polarity"
   ]
  },
  {
   "cell_type": "code",
   "execution_count": 57,
   "id": "0178b331",
   "metadata": {},
   "outputs": [],
   "source": [
    "df1['length_hashtags'] = df1['Hashtags'].apply(lambda x : x.count('#')) # no of topics"
   ]
  },
  {
   "cell_type": "code",
   "execution_count": 58,
   "id": "e00518d5",
   "metadata": {},
   "outputs": [],
   "source": [
    "df1['length_caption'] = df1['cleaned_caption'].apply(lambda x : len(x.split(\" \"))) # no of words"
   ]
  },
  {
   "cell_type": "code",
   "execution_count": 59,
   "id": "07c3819d",
   "metadata": {},
   "outputs": [],
   "source": [
    "# text polarity "
   ]
  },
  {
   "cell_type": "code",
   "execution_count": 60,
   "id": "9f537840",
   "metadata": {},
   "outputs": [],
   "source": [
    "from textblob import TextBlob"
   ]
  },
  {
   "cell_type": "code",
   "execution_count": 61,
   "id": "886acf9d",
   "metadata": {},
   "outputs": [],
   "source": [
    "df1['text_polarity'] = df1['cleaned_caption'].apply(lambda x : TextBlob(x).sentiment[0])"
   ]
  },
  {
   "cell_type": "code",
   "execution_count": 62,
   "id": "bf947975",
   "metadata": {},
   "outputs": [],
   "source": [
    "df1['text_subjectivity'] = df1['cleaned_caption'].apply(lambda x : TextBlob(x).sentiment[1])"
   ]
  },
  {
   "cell_type": "code",
   "execution_count": 63,
   "id": "0354e25d",
   "metadata": {},
   "outputs": [
    {
     "data": {
      "text/html": [
       "<div>\n",
       "<style scoped>\n",
       "    .dataframe tbody tr th:only-of-type {\n",
       "        vertical-align: middle;\n",
       "    }\n",
       "\n",
       "    .dataframe tbody tr th {\n",
       "        vertical-align: top;\n",
       "    }\n",
       "\n",
       "    .dataframe thead th {\n",
       "        text-align: right;\n",
       "    }\n",
       "</style>\n",
       "<table border=\"1\" class=\"dataframe\">\n",
       "  <thead>\n",
       "    <tr style=\"text-align: right;\">\n",
       "      <th></th>\n",
       "      <th>Caption</th>\n",
       "      <th>Followers</th>\n",
       "      <th>Hashtags</th>\n",
       "      <th>Likes</th>\n",
       "      <th>cleaned_caption</th>\n",
       "      <th>cleaned_hastags</th>\n",
       "      <th>avg_idf</th>\n",
       "      <th>length_hashtags</th>\n",
       "      <th>length_caption</th>\n",
       "      <th>text_polarity</th>\n",
       "      <th>text_subjectivity</th>\n",
       "    </tr>\n",
       "  </thead>\n",
       "  <tbody>\n",
       "    <tr>\n",
       "      <th>1</th>\n",
       "      <td>We all know where it’s going. We just have to ...</td>\n",
       "      <td>880</td>\n",
       "      <td>#deck .#mac #macintosh#sayhello #apple #steve...</td>\n",
       "      <td>23</td>\n",
       "      <td>know going work responsibly postpone date actu...</td>\n",
       "      <td>deck mac macintosh say hello apple steve jobs ...</td>\n",
       "      <td>3.771254</td>\n",
       "      <td>28</td>\n",
       "      <td>54</td>\n",
       "      <td>-0.180000</td>\n",
       "      <td>0.530000</td>\n",
       "    </tr>\n",
       "    <tr>\n",
       "      <th>2</th>\n",
       "      <td>Alexander Barinov: 4 years as CFO in multinati...</td>\n",
       "      <td>255</td>\n",
       "      <td>#whoiswho #aitrading #ai #aitradingteam#instat...</td>\n",
       "      <td>25</td>\n",
       "      <td>alexander bari nov years cf o multinationals y...</td>\n",
       "      <td>who is who a i trading a i a i trading team in...</td>\n",
       "      <td>3.055729</td>\n",
       "      <td>30</td>\n",
       "      <td>97</td>\n",
       "      <td>-0.111111</td>\n",
       "      <td>0.318519</td>\n",
       "    </tr>\n",
       "    <tr>\n",
       "      <th>3</th>\n",
       "      <td>sfad</td>\n",
       "      <td>340</td>\n",
       "      <td>#iot #cre#workplace #CDO #bigdata #technology#...</td>\n",
       "      <td>49</td>\n",
       "      <td>s fad</td>\n",
       "      <td>i ot c re workplace cdo big data technology te...</td>\n",
       "      <td>3.428281</td>\n",
       "      <td>30</td>\n",
       "      <td>2</td>\n",
       "      <td>0.000000</td>\n",
       "      <td>0.000000</td>\n",
       "    </tr>\n",
       "    <tr>\n",
       "      <th>4</th>\n",
       "      <td>Ever missed a call while your phone was chargi...</td>\n",
       "      <td>304</td>\n",
       "      <td>#instamachinelearning #instabigdata#instamarke...</td>\n",
       "      <td>30</td>\n",
       "      <td>ever missed call phone charging system notify ...</td>\n",
       "      <td>insta machine learning insta big data insta ma...</td>\n",
       "      <td>2.958244</td>\n",
       "      <td>26</td>\n",
       "      <td>32</td>\n",
       "      <td>0.333333</td>\n",
       "      <td>0.508333</td>\n",
       "    </tr>\n",
       "    <tr>\n",
       "      <th>5</th>\n",
       "      <td>Cyber attacks are more frequent every day and ...</td>\n",
       "      <td>1231</td>\n",
       "      <td>#edtech #learning#educationtechnology #tech #l...</td>\n",
       "      <td>18</td>\n",
       "      <td>cyber attacks frequent every day affect busine...</td>\n",
       "      <td>ed tech learning education technology tech lea...</td>\n",
       "      <td>3.336452</td>\n",
       "      <td>25</td>\n",
       "      <td>29</td>\n",
       "      <td>0.100000</td>\n",
       "      <td>0.380952</td>\n",
       "    </tr>\n",
       "  </tbody>\n",
       "</table>\n",
       "</div>"
      ],
      "text/plain": [
       "                                             Caption  Followers  \\\n",
       "1  We all know where it’s going. We just have to ...        880   \n",
       "2  Alexander Barinov: 4 years as CFO in multinati...        255   \n",
       "3                                               sfad        340   \n",
       "4  Ever missed a call while your phone was chargi...        304   \n",
       "5  Cyber attacks are more frequent every day and ...       1231   \n",
       "\n",
       "                                            Hashtags  Likes  \\\n",
       "1   #deck .#mac #macintosh#sayhello #apple #steve...     23   \n",
       "2  #whoiswho #aitrading #ai #aitradingteam#instat...     25   \n",
       "3  #iot #cre#workplace #CDO #bigdata #technology#...     49   \n",
       "4  #instamachinelearning #instabigdata#instamarke...     30   \n",
       "5  #edtech #learning#educationtechnology #tech #l...     18   \n",
       "\n",
       "                                     cleaned_caption  \\\n",
       "1  know going work responsibly postpone date actu...   \n",
       "2  alexander bari nov years cf o multinationals y...   \n",
       "3                                              s fad   \n",
       "4  ever missed call phone charging system notify ...   \n",
       "5  cyber attacks frequent every day affect busine...   \n",
       "\n",
       "                                     cleaned_hastags   avg_idf  \\\n",
       "1  deck mac macintosh say hello apple steve jobs ...  3.771254   \n",
       "2  who is who a i trading a i a i trading team in...  3.055729   \n",
       "3  i ot c re workplace cdo big data technology te...  3.428281   \n",
       "4  insta machine learning insta big data insta ma...  2.958244   \n",
       "5  ed tech learning education technology tech lea...  3.336452   \n",
       "\n",
       "   length_hashtags  length_caption  text_polarity  text_subjectivity  \n",
       "1               28              54      -0.180000           0.530000  \n",
       "2               30              97      -0.111111           0.318519  \n",
       "3               30               2       0.000000           0.000000  \n",
       "4               26              32       0.333333           0.508333  \n",
       "5               25              29       0.100000           0.380952  "
      ]
     },
     "execution_count": 63,
     "metadata": {},
     "output_type": "execute_result"
    }
   ],
   "source": [
    "df1.head()"
   ]
  },
  {
   "cell_type": "code",
   "execution_count": 64,
   "id": "05b19d69",
   "metadata": {},
   "outputs": [],
   "source": [
    "df1 = df1[['Caption', 'Followers', 'Hashtags',  'cleaned_caption', 'cleaned_hastags', \n",
    "                 'avg_idf', 'length_hashtags', 'length_caption', 'text_polarity', 'text_subjectivity', 'Likes']]"
   ]
  },
  {
   "cell_type": "code",
   "execution_count": 65,
   "id": "d39b1808",
   "metadata": {},
   "outputs": [
    {
     "data": {
      "text/html": [
       "<div>\n",
       "<style scoped>\n",
       "    .dataframe tbody tr th:only-of-type {\n",
       "        vertical-align: middle;\n",
       "    }\n",
       "\n",
       "    .dataframe tbody tr th {\n",
       "        vertical-align: top;\n",
       "    }\n",
       "\n",
       "    .dataframe thead th {\n",
       "        text-align: right;\n",
       "    }\n",
       "</style>\n",
       "<table border=\"1\" class=\"dataframe\">\n",
       "  <thead>\n",
       "    <tr style=\"text-align: right;\">\n",
       "      <th></th>\n",
       "      <th>Caption</th>\n",
       "      <th>Followers</th>\n",
       "      <th>Hashtags</th>\n",
       "      <th>cleaned_caption</th>\n",
       "      <th>cleaned_hastags</th>\n",
       "      <th>avg_idf</th>\n",
       "      <th>length_hashtags</th>\n",
       "      <th>length_caption</th>\n",
       "      <th>text_polarity</th>\n",
       "      <th>text_subjectivity</th>\n",
       "      <th>Likes</th>\n",
       "    </tr>\n",
       "  </thead>\n",
       "  <tbody>\n",
       "    <tr>\n",
       "      <th>1</th>\n",
       "      <td>We all know where it’s going. We just have to ...</td>\n",
       "      <td>880</td>\n",
       "      <td>#deck .#mac #macintosh#sayhello #apple #steve...</td>\n",
       "      <td>know going work responsibly postpone date actu...</td>\n",
       "      <td>deck mac macintosh say hello apple steve jobs ...</td>\n",
       "      <td>3.771254</td>\n",
       "      <td>28</td>\n",
       "      <td>54</td>\n",
       "      <td>-0.180000</td>\n",
       "      <td>0.530000</td>\n",
       "      <td>23</td>\n",
       "    </tr>\n",
       "    <tr>\n",
       "      <th>2</th>\n",
       "      <td>Alexander Barinov: 4 years as CFO in multinati...</td>\n",
       "      <td>255</td>\n",
       "      <td>#whoiswho #aitrading #ai #aitradingteam#instat...</td>\n",
       "      <td>alexander bari nov years cf o multinationals y...</td>\n",
       "      <td>who is who a i trading a i a i trading team in...</td>\n",
       "      <td>3.055729</td>\n",
       "      <td>30</td>\n",
       "      <td>97</td>\n",
       "      <td>-0.111111</td>\n",
       "      <td>0.318519</td>\n",
       "      <td>25</td>\n",
       "    </tr>\n",
       "    <tr>\n",
       "      <th>3</th>\n",
       "      <td>sfad</td>\n",
       "      <td>340</td>\n",
       "      <td>#iot #cre#workplace #CDO #bigdata #technology#...</td>\n",
       "      <td>s fad</td>\n",
       "      <td>i ot c re workplace cdo big data technology te...</td>\n",
       "      <td>3.428281</td>\n",
       "      <td>30</td>\n",
       "      <td>2</td>\n",
       "      <td>0.000000</td>\n",
       "      <td>0.000000</td>\n",
       "      <td>49</td>\n",
       "    </tr>\n",
       "    <tr>\n",
       "      <th>4</th>\n",
       "      <td>Ever missed a call while your phone was chargi...</td>\n",
       "      <td>304</td>\n",
       "      <td>#instamachinelearning #instabigdata#instamarke...</td>\n",
       "      <td>ever missed call phone charging system notify ...</td>\n",
       "      <td>insta machine learning insta big data insta ma...</td>\n",
       "      <td>2.958244</td>\n",
       "      <td>26</td>\n",
       "      <td>32</td>\n",
       "      <td>0.333333</td>\n",
       "      <td>0.508333</td>\n",
       "      <td>30</td>\n",
       "    </tr>\n",
       "    <tr>\n",
       "      <th>5</th>\n",
       "      <td>Cyber attacks are more frequent every day and ...</td>\n",
       "      <td>1231</td>\n",
       "      <td>#edtech #learning#educationtechnology #tech #l...</td>\n",
       "      <td>cyber attacks frequent every day affect busine...</td>\n",
       "      <td>ed tech learning education technology tech lea...</td>\n",
       "      <td>3.336452</td>\n",
       "      <td>25</td>\n",
       "      <td>29</td>\n",
       "      <td>0.100000</td>\n",
       "      <td>0.380952</td>\n",
       "      <td>18</td>\n",
       "    </tr>\n",
       "  </tbody>\n",
       "</table>\n",
       "</div>"
      ],
      "text/plain": [
       "                                             Caption  Followers  \\\n",
       "1  We all know where it’s going. We just have to ...        880   \n",
       "2  Alexander Barinov: 4 years as CFO in multinati...        255   \n",
       "3                                               sfad        340   \n",
       "4  Ever missed a call while your phone was chargi...        304   \n",
       "5  Cyber attacks are more frequent every day and ...       1231   \n",
       "\n",
       "                                            Hashtags  \\\n",
       "1   #deck .#mac #macintosh#sayhello #apple #steve...   \n",
       "2  #whoiswho #aitrading #ai #aitradingteam#instat...   \n",
       "3  #iot #cre#workplace #CDO #bigdata #technology#...   \n",
       "4  #instamachinelearning #instabigdata#instamarke...   \n",
       "5  #edtech #learning#educationtechnology #tech #l...   \n",
       "\n",
       "                                     cleaned_caption  \\\n",
       "1  know going work responsibly postpone date actu...   \n",
       "2  alexander bari nov years cf o multinationals y...   \n",
       "3                                              s fad   \n",
       "4  ever missed call phone charging system notify ...   \n",
       "5  cyber attacks frequent every day affect busine...   \n",
       "\n",
       "                                     cleaned_hastags   avg_idf  \\\n",
       "1  deck mac macintosh say hello apple steve jobs ...  3.771254   \n",
       "2  who is who a i trading a i a i trading team in...  3.055729   \n",
       "3  i ot c re workplace cdo big data technology te...  3.428281   \n",
       "4  insta machine learning insta big data insta ma...  2.958244   \n",
       "5  ed tech learning education technology tech lea...  3.336452   \n",
       "\n",
       "   length_hashtags  length_caption  text_polarity  text_subjectivity  Likes  \n",
       "1               28              54      -0.180000           0.530000     23  \n",
       "2               30              97      -0.111111           0.318519     25  \n",
       "3               30               2       0.000000           0.000000     49  \n",
       "4               26              32       0.333333           0.508333     30  \n",
       "5               25              29       0.100000           0.380952     18  "
      ]
     },
     "execution_count": 65,
     "metadata": {},
     "output_type": "execute_result"
    }
   ],
   "source": [
    "df1.head()"
   ]
  },
  {
   "cell_type": "code",
   "execution_count": 66,
   "id": "70115c32",
   "metadata": {},
   "outputs": [
    {
     "data": {
      "text/plain": [
       "<seaborn.axisgrid.PairGrid at 0x7f3483a78100>"
      ]
     },
     "execution_count": 66,
     "metadata": {},
     "output_type": "execute_result"
    },
    {
     "data": {
      "image/png": "[encoded data removed]",
      "text/plain": [
       "<Figure size 1260x1260 with 56 Axes>"
      ]
     },
     "metadata": {
      "needs_background": "light"
     },
     "output_type": "display_data"
    }
   ],
   "source": [
    "sns.pairplot(df1)"
   ]
  },
  {
   "cell_type": "code",
   "execution_count": 67,
   "id": "da3474ea",
   "metadata": {},
   "outputs": [
    {
     "data": {
      "text/html": [
       "<div>\n",
       "<style scoped>\n",
       "    .dataframe tbody tr th:only-of-type {\n",
       "        vertical-align: middle;\n",
       "    }\n",
       "\n",
       "    .dataframe tbody tr th {\n",
       "        vertical-align: top;\n",
       "    }\n",
       "\n",
       "    .dataframe thead th {\n",
       "        text-align: right;\n",
       "    }\n",
       "</style>\n",
       "<table border=\"1\" class=\"dataframe\">\n",
       "  <thead>\n",
       "    <tr style=\"text-align: right;\">\n",
       "      <th></th>\n",
       "      <th>Followers</th>\n",
       "      <th>avg_idf</th>\n",
       "      <th>length_hashtags</th>\n",
       "      <th>length_caption</th>\n",
       "      <th>text_polarity</th>\n",
       "      <th>text_subjectivity</th>\n",
       "      <th>Likes</th>\n",
       "    </tr>\n",
       "  </thead>\n",
       "  <tbody>\n",
       "    <tr>\n",
       "      <th>Followers</th>\n",
       "      <td>1.000000</td>\n",
       "      <td>0.010806</td>\n",
       "      <td>-0.023751</td>\n",
       "      <td>-0.018275</td>\n",
       "      <td>-0.188647</td>\n",
       "      <td>-0.024688</td>\n",
       "      <td>0.288021</td>\n",
       "    </tr>\n",
       "    <tr>\n",
       "      <th>avg_idf</th>\n",
       "      <td>0.010806</td>\n",
       "      <td>1.000000</td>\n",
       "      <td>0.283588</td>\n",
       "      <td>-0.160586</td>\n",
       "      <td>0.158444</td>\n",
       "      <td>0.123612</td>\n",
       "      <td>-0.131310</td>\n",
       "    </tr>\n",
       "    <tr>\n",
       "      <th>length_hashtags</th>\n",
       "      <td>-0.023751</td>\n",
       "      <td>0.283588</td>\n",
       "      <td>1.000000</td>\n",
       "      <td>0.105601</td>\n",
       "      <td>-0.197835</td>\n",
       "      <td>-0.047090</td>\n",
       "      <td>0.261602</td>\n",
       "    </tr>\n",
       "    <tr>\n",
       "      <th>length_caption</th>\n",
       "      <td>-0.018275</td>\n",
       "      <td>-0.160586</td>\n",
       "      <td>0.105601</td>\n",
       "      <td>1.000000</td>\n",
       "      <td>-0.134390</td>\n",
       "      <td>0.171163</td>\n",
       "      <td>-0.185302</td>\n",
       "    </tr>\n",
       "    <tr>\n",
       "      <th>text_polarity</th>\n",
       "      <td>-0.188647</td>\n",
       "      <td>0.158444</td>\n",
       "      <td>-0.197835</td>\n",
       "      <td>-0.134390</td>\n",
       "      <td>1.000000</td>\n",
       "      <td>0.514247</td>\n",
       "      <td>-0.149314</td>\n",
       "    </tr>\n",
       "    <tr>\n",
       "      <th>text_subjectivity</th>\n",
       "      <td>-0.024688</td>\n",
       "      <td>0.123612</td>\n",
       "      <td>-0.047090</td>\n",
       "      <td>0.171163</td>\n",
       "      <td>0.514247</td>\n",
       "      <td>1.000000</td>\n",
       "      <td>-0.105580</td>\n",
       "    </tr>\n",
       "    <tr>\n",
       "      <th>Likes</th>\n",
       "      <td>0.288021</td>\n",
       "      <td>-0.131310</td>\n",
       "      <td>0.261602</td>\n",
       "      <td>-0.185302</td>\n",
       "      <td>-0.149314</td>\n",
       "      <td>-0.105580</td>\n",
       "      <td>1.000000</td>\n",
       "    </tr>\n",
       "  </tbody>\n",
       "</table>\n",
       "</div>"
      ],
      "text/plain": [
       "                   Followers   avg_idf  length_hashtags  length_caption  \\\n",
       "Followers           1.000000  0.010806        -0.023751       -0.018275   \n",
       "avg_idf             0.010806  1.000000         0.283588       -0.160586   \n",
       "length_hashtags    -0.023751  0.283588         1.000000        0.105601   \n",
       "length_caption     -0.018275 -0.160586         0.105601        1.000000   \n",
       "text_polarity      -0.188647  0.158444        -0.197835       -0.134390   \n",
       "text_subjectivity  -0.024688  0.123612        -0.047090        0.171163   \n",
       "Likes               0.288021 -0.131310         0.261602       -0.185302   \n",
       "\n",
       "                   text_polarity  text_subjectivity     Likes  \n",
       "Followers              -0.188647          -0.024688  0.288021  \n",
       "avg_idf                 0.158444           0.123612 -0.131310  \n",
       "length_hashtags        -0.197835          -0.047090  0.261602  \n",
       "length_caption         -0.134390           0.171163 -0.185302  \n",
       "text_polarity           1.000000           0.514247 -0.149314  \n",
       "text_subjectivity       0.514247           1.000000 -0.105580  \n",
       "Likes                  -0.149314          -0.105580  1.000000  "
      ]
     },
     "execution_count": 67,
     "metadata": {},
     "output_type": "execute_result"
    }
   ],
   "source": [
    "df1.corr()"
   ]
  },
  {
   "cell_type": "code",
   "execution_count": 68,
   "id": "472456db",
   "metadata": {},
   "outputs": [
    {
     "data": {
      "image/png": "[encoded data removed]",
      "text/plain": [
       "<Figure size 1440x720 with 8 Axes>"
      ]
     },
     "metadata": {
      "needs_background": "light"
     },
     "output_type": "display_data"
    }
   ],
   "source": [
    "feat = ['Followers', 'avg_idf', 'length_hashtags', 'length_caption',\n",
    "        'text_polarity', 'text_subjectivity', 'Likes']\n",
    "\n",
    "\n",
    "\n",
    "\n",
    "fig, axes = plt.subplots(2,4, figsize=(20,10), tight_layout = True)\n",
    "s1 = [[0,0], [0,1], [0,2], [0,3],\n",
    "      [1,0], [1,1], [1,2], [1,3]]\n",
    "\n",
    "for i in range(len(feat)) : \n",
    "    j = s1[i][0]\n",
    "    k = s1[i][1]\n",
    "    sns.histplot(df1[feat[i]], ax = axes[j,k])\n",
    "    \n",
    "plt.show()"
   ]
  },
  {
   "cell_type": "markdown",
   "id": "e67b733a",
   "metadata": {},
   "source": [
    "**From the above plots it can be seen that the distributions of the features are not proper gaussian. So, we need to take care of this while building a regression model. As these are non-normal distributions, we have to transform them. For this case we will use log transformation. We will refrain from transforming the 'text_polarity' and 'text_subjectivity' as they have negative values too and the '-' sign actually helps to find the correlation between the text and the number of likes.** "
   ]
  },
  {
   "cell_type": "code",
   "execution_count": 69,
   "id": "bf71a741",
   "metadata": {},
   "outputs": [],
   "source": [
    "df3 = df1[['Followers', 'avg_idf', 'length_hashtags', 'length_caption',\n",
    "       'text_polarity', 'text_subjectivity', 'Likes']]"
   ]
  },
  {
   "cell_type": "code",
   "execution_count": 70,
   "id": "3a6ed459",
   "metadata": {},
   "outputs": [
    {
     "data": {
      "text/html": [
       "<div>\n",
       "<style scoped>\n",
       "    .dataframe tbody tr th:only-of-type {\n",
       "        vertical-align: middle;\n",
       "    }\n",
       "\n",
       "    .dataframe tbody tr th {\n",
       "        vertical-align: top;\n",
       "    }\n",
       "\n",
       "    .dataframe thead th {\n",
       "        text-align: right;\n",
       "    }\n",
       "</style>\n",
       "<table border=\"1\" class=\"dataframe\">\n",
       "  <thead>\n",
       "    <tr style=\"text-align: right;\">\n",
       "      <th></th>\n",
       "      <th>Followers</th>\n",
       "      <th>avg_idf</th>\n",
       "      <th>length_hashtags</th>\n",
       "      <th>length_caption</th>\n",
       "      <th>text_polarity</th>\n",
       "      <th>text_subjectivity</th>\n",
       "      <th>Likes</th>\n",
       "    </tr>\n",
       "  </thead>\n",
       "  <tbody>\n",
       "    <tr>\n",
       "      <th>1</th>\n",
       "      <td>880</td>\n",
       "      <td>3.771254</td>\n",
       "      <td>28</td>\n",
       "      <td>54</td>\n",
       "      <td>-0.180000</td>\n",
       "      <td>0.530000</td>\n",
       "      <td>23</td>\n",
       "    </tr>\n",
       "    <tr>\n",
       "      <th>2</th>\n",
       "      <td>255</td>\n",
       "      <td>3.055729</td>\n",
       "      <td>30</td>\n",
       "      <td>97</td>\n",
       "      <td>-0.111111</td>\n",
       "      <td>0.318519</td>\n",
       "      <td>25</td>\n",
       "    </tr>\n",
       "    <tr>\n",
       "      <th>3</th>\n",
       "      <td>340</td>\n",
       "      <td>3.428281</td>\n",
       "      <td>30</td>\n",
       "      <td>2</td>\n",
       "      <td>0.000000</td>\n",
       "      <td>0.000000</td>\n",
       "      <td>49</td>\n",
       "    </tr>\n",
       "    <tr>\n",
       "      <th>4</th>\n",
       "      <td>304</td>\n",
       "      <td>2.958244</td>\n",
       "      <td>26</td>\n",
       "      <td>32</td>\n",
       "      <td>0.333333</td>\n",
       "      <td>0.508333</td>\n",
       "      <td>30</td>\n",
       "    </tr>\n",
       "    <tr>\n",
       "      <th>5</th>\n",
       "      <td>1231</td>\n",
       "      <td>3.336452</td>\n",
       "      <td>25</td>\n",
       "      <td>29</td>\n",
       "      <td>0.100000</td>\n",
       "      <td>0.380952</td>\n",
       "      <td>18</td>\n",
       "    </tr>\n",
       "  </tbody>\n",
       "</table>\n",
       "</div>"
      ],
      "text/plain": [
       "   Followers   avg_idf  length_hashtags  length_caption  text_polarity  \\\n",
       "1        880  3.771254               28              54      -0.180000   \n",
       "2        255  3.055729               30              97      -0.111111   \n",
       "3        340  3.428281               30               2       0.000000   \n",
       "4        304  2.958244               26              32       0.333333   \n",
       "5       1231  3.336452               25              29       0.100000   \n",
       "\n",
       "   text_subjectivity  Likes  \n",
       "1           0.530000     23  \n",
       "2           0.318519     25  \n",
       "3           0.000000     49  \n",
       "4           0.508333     30  \n",
       "5           0.380952     18  "
      ]
     },
     "execution_count": 70,
     "metadata": {},
     "output_type": "execute_result"
    }
   ],
   "source": [
    "df3.head()"
   ]
  },
  {
   "cell_type": "markdown",
   "id": "96fab1d9",
   "metadata": {},
   "source": [
    "### Log Transformation "
   ]
  },
  {
   "cell_type": "code",
   "execution_count": 71,
   "id": "ec1d506f",
   "metadata": {},
   "outputs": [],
   "source": [
    "df3['Followers'] = np.log(df3['Followers'])"
   ]
  },
  {
   "cell_type": "code",
   "execution_count": 72,
   "id": "ece21769",
   "metadata": {},
   "outputs": [],
   "source": [
    "df3['Likes'] = np.log(df3['Likes'])"
   ]
  },
  {
   "cell_type": "code",
   "execution_count": 73,
   "id": "a04314d5",
   "metadata": {},
   "outputs": [],
   "source": [
    "df3['length_caption'] = np.log(df3['length_caption'])"
   ]
  },
  {
   "cell_type": "code",
   "execution_count": 74,
   "id": "831d15fe",
   "metadata": {},
   "outputs": [],
   "source": [
    "df3['length_hashtags'] = np.log(df3['length_hashtags'])"
   ]
  },
  {
   "cell_type": "code",
   "execution_count": 75,
   "id": "a9d8feb5",
   "metadata": {},
   "outputs": [],
   "source": [
    "df3['avg_idf'] = np.log(df3['avg_idf'])"
   ]
  },
  {
   "cell_type": "code",
   "execution_count": 76,
   "id": "78e62575",
   "metadata": {},
   "outputs": [
    {
     "data": {
      "text/html": [
       "<div>\n",
       "<style scoped>\n",
       "    .dataframe tbody tr th:only-of-type {\n",
       "        vertical-align: middle;\n",
       "    }\n",
       "\n",
       "    .dataframe tbody tr th {\n",
       "        vertical-align: top;\n",
       "    }\n",
       "\n",
       "    .dataframe thead th {\n",
       "        text-align: right;\n",
       "    }\n",
       "</style>\n",
       "<table border=\"1\" class=\"dataframe\">\n",
       "  <thead>\n",
       "    <tr style=\"text-align: right;\">\n",
       "      <th></th>\n",
       "      <th>Followers</th>\n",
       "      <th>avg_idf</th>\n",
       "      <th>length_hashtags</th>\n",
       "      <th>length_caption</th>\n",
       "      <th>text_polarity</th>\n",
       "      <th>text_subjectivity</th>\n",
       "      <th>Likes</th>\n",
       "    </tr>\n",
       "  </thead>\n",
       "  <tbody>\n",
       "    <tr>\n",
       "      <th>Followers</th>\n",
       "      <td>1.000000</td>\n",
       "      <td>-0.015883</td>\n",
       "      <td>0.055687</td>\n",
       "      <td>-0.049163</td>\n",
       "      <td>-0.214285</td>\n",
       "      <td>-0.005466</td>\n",
       "      <td>0.376391</td>\n",
       "    </tr>\n",
       "    <tr>\n",
       "      <th>avg_idf</th>\n",
       "      <td>-0.015883</td>\n",
       "      <td>1.000000</td>\n",
       "      <td>0.499921</td>\n",
       "      <td>-0.077388</td>\n",
       "      <td>0.128959</td>\n",
       "      <td>0.099876</td>\n",
       "      <td>-0.069602</td>\n",
       "    </tr>\n",
       "    <tr>\n",
       "      <th>length_hashtags</th>\n",
       "      <td>0.055687</td>\n",
       "      <td>0.499921</td>\n",
       "      <td>1.000000</td>\n",
       "      <td>0.013202</td>\n",
       "      <td>-0.126519</td>\n",
       "      <td>-0.012861</td>\n",
       "      <td>0.249534</td>\n",
       "    </tr>\n",
       "    <tr>\n",
       "      <th>length_caption</th>\n",
       "      <td>-0.049163</td>\n",
       "      <td>-0.077388</td>\n",
       "      <td>0.013202</td>\n",
       "      <td>1.000000</td>\n",
       "      <td>0.019488</td>\n",
       "      <td>0.293076</td>\n",
       "      <td>-0.234204</td>\n",
       "    </tr>\n",
       "    <tr>\n",
       "      <th>text_polarity</th>\n",
       "      <td>-0.214285</td>\n",
       "      <td>0.128959</td>\n",
       "      <td>-0.126519</td>\n",
       "      <td>0.019488</td>\n",
       "      <td>1.000000</td>\n",
       "      <td>0.514247</td>\n",
       "      <td>-0.159149</td>\n",
       "    </tr>\n",
       "    <tr>\n",
       "      <th>text_subjectivity</th>\n",
       "      <td>-0.005466</td>\n",
       "      <td>0.099876</td>\n",
       "      <td>-0.012861</td>\n",
       "      <td>0.293076</td>\n",
       "      <td>0.514247</td>\n",
       "      <td>1.000000</td>\n",
       "      <td>-0.127243</td>\n",
       "    </tr>\n",
       "    <tr>\n",
       "      <th>Likes</th>\n",
       "      <td>0.376391</td>\n",
       "      <td>-0.069602</td>\n",
       "      <td>0.249534</td>\n",
       "      <td>-0.234204</td>\n",
       "      <td>-0.159149</td>\n",
       "      <td>-0.127243</td>\n",
       "      <td>1.000000</td>\n",
       "    </tr>\n",
       "  </tbody>\n",
       "</table>\n",
       "</div>"
      ],
      "text/plain": [
       "                   Followers   avg_idf  length_hashtags  length_caption  \\\n",
       "Followers           1.000000 -0.015883         0.055687       -0.049163   \n",
       "avg_idf            -0.015883  1.000000         0.499921       -0.077388   \n",
       "length_hashtags     0.055687  0.499921         1.000000        0.013202   \n",
       "length_caption     -0.049163 -0.077388         0.013202        1.000000   \n",
       "text_polarity      -0.214285  0.128959        -0.126519        0.019488   \n",
       "text_subjectivity  -0.005466  0.099876        -0.012861        0.293076   \n",
       "Likes               0.376391 -0.069602         0.249534       -0.234204   \n",
       "\n",
       "                   text_polarity  text_subjectivity     Likes  \n",
       "Followers              -0.214285          -0.005466  0.376391  \n",
       "avg_idf                 0.128959           0.099876 -0.069602  \n",
       "length_hashtags        -0.126519          -0.012861  0.249534  \n",
       "length_caption          0.019488           0.293076 -0.234204  \n",
       "text_polarity           1.000000           0.514247 -0.159149  \n",
       "text_subjectivity       0.514247           1.000000 -0.127243  \n",
       "Likes                  -0.159149          -0.127243  1.000000  "
      ]
     },
     "execution_count": 76,
     "metadata": {},
     "output_type": "execute_result"
    }
   ],
   "source": [
    "df3.corr()"
   ]
  },
  {
   "cell_type": "markdown",
   "id": "aaad40eb",
   "metadata": {},
   "source": [
    "It can be seen that 'Likes' is somewhat positively correlated to 'Followers', 'length_hashtags' and negatively correlated to the 'length_caption', 'text_polarity' and 'text_subjectivity'. "
   ]
  },
  {
   "cell_type": "code",
   "execution_count": 77,
   "id": "e3661686",
   "metadata": {},
   "outputs": [
    {
     "data": {
      "text/html": [
       "<div>\n",
       "<style scoped>\n",
       "    .dataframe tbody tr th:only-of-type {\n",
       "        vertical-align: middle;\n",
       "    }\n",
       "\n",
       "    .dataframe tbody tr th {\n",
       "        vertical-align: top;\n",
       "    }\n",
       "\n",
       "    .dataframe thead th {\n",
       "        text-align: right;\n",
       "    }\n",
       "</style>\n",
       "<table border=\"1\" class=\"dataframe\">\n",
       "  <thead>\n",
       "    <tr style=\"text-align: right;\">\n",
       "      <th></th>\n",
       "      <th>Followers</th>\n",
       "      <th>avg_idf</th>\n",
       "      <th>length_hashtags</th>\n",
       "      <th>length_caption</th>\n",
       "      <th>text_polarity</th>\n",
       "      <th>text_subjectivity</th>\n",
       "      <th>Likes</th>\n",
       "    </tr>\n",
       "  </thead>\n",
       "  <tbody>\n",
       "    <tr>\n",
       "      <th>1</th>\n",
       "      <td>6.779922</td>\n",
       "      <td>1.327407</td>\n",
       "      <td>3.332205</td>\n",
       "      <td>3.988984</td>\n",
       "      <td>-0.180000</td>\n",
       "      <td>0.530000</td>\n",
       "      <td>3.135494</td>\n",
       "    </tr>\n",
       "    <tr>\n",
       "      <th>2</th>\n",
       "      <td>5.541264</td>\n",
       "      <td>1.117018</td>\n",
       "      <td>3.401197</td>\n",
       "      <td>4.574711</td>\n",
       "      <td>-0.111111</td>\n",
       "      <td>0.318519</td>\n",
       "      <td>3.218876</td>\n",
       "    </tr>\n",
       "    <tr>\n",
       "      <th>3</th>\n",
       "      <td>5.828946</td>\n",
       "      <td>1.232059</td>\n",
       "      <td>3.401197</td>\n",
       "      <td>0.693147</td>\n",
       "      <td>0.000000</td>\n",
       "      <td>0.000000</td>\n",
       "      <td>3.891820</td>\n",
       "    </tr>\n",
       "    <tr>\n",
       "      <th>4</th>\n",
       "      <td>5.717028</td>\n",
       "      <td>1.084596</td>\n",
       "      <td>3.258097</td>\n",
       "      <td>3.465736</td>\n",
       "      <td>0.333333</td>\n",
       "      <td>0.508333</td>\n",
       "      <td>3.401197</td>\n",
       "    </tr>\n",
       "    <tr>\n",
       "      <th>5</th>\n",
       "      <td>7.115582</td>\n",
       "      <td>1.204908</td>\n",
       "      <td>3.218876</td>\n",
       "      <td>3.367296</td>\n",
       "      <td>0.100000</td>\n",
       "      <td>0.380952</td>\n",
       "      <td>2.890372</td>\n",
       "    </tr>\n",
       "  </tbody>\n",
       "</table>\n",
       "</div>"
      ],
      "text/plain": [
       "   Followers   avg_idf  length_hashtags  length_caption  text_polarity  \\\n",
       "1   6.779922  1.327407         3.332205        3.988984      -0.180000   \n",
       "2   5.541264  1.117018         3.401197        4.574711      -0.111111   \n",
       "3   5.828946  1.232059         3.401197        0.693147       0.000000   \n",
       "4   5.717028  1.084596         3.258097        3.465736       0.333333   \n",
       "5   7.115582  1.204908         3.218876        3.367296       0.100000   \n",
       "\n",
       "   text_subjectivity     Likes  \n",
       "1           0.530000  3.135494  \n",
       "2           0.318519  3.218876  \n",
       "3           0.000000  3.891820  \n",
       "4           0.508333  3.401197  \n",
       "5           0.380952  2.890372  "
      ]
     },
     "execution_count": 77,
     "metadata": {},
     "output_type": "execute_result"
    }
   ],
   "source": [
    "df3.head()"
   ]
  },
  {
   "cell_type": "code",
   "execution_count": null,
   "id": "8709d1c7",
   "metadata": {},
   "outputs": [],
   "source": []
  },
  {
   "cell_type": "markdown",
   "id": "dbdd86ce",
   "metadata": {},
   "source": [
    "## Model Building"
   ]
  },
  {
   "cell_type": "code",
   "execution_count": 78,
   "id": "803650ba",
   "metadata": {},
   "outputs": [],
   "source": [
    "X = df3.copy()\n",
    "X.drop(labels = 'Likes', axis = 1, inplace=True)"
   ]
  },
  {
   "cell_type": "code",
   "execution_count": 79,
   "id": "74b5f4a7",
   "metadata": {},
   "outputs": [],
   "source": [
    "y = df3['Likes']"
   ]
  },
  {
   "cell_type": "code",
   "execution_count": 80,
   "id": "ffe98007",
   "metadata": {},
   "outputs": [
    {
     "data": {
      "text/html": [
       "<div>\n",
       "<style scoped>\n",
       "    .dataframe tbody tr th:only-of-type {\n",
       "        vertical-align: middle;\n",
       "    }\n",
       "\n",
       "    .dataframe tbody tr th {\n",
       "        vertical-align: top;\n",
       "    }\n",
       "\n",
       "    .dataframe thead th {\n",
       "        text-align: right;\n",
       "    }\n",
       "</style>\n",
       "<table border=\"1\" class=\"dataframe\">\n",
       "  <thead>\n",
       "    <tr style=\"text-align: right;\">\n",
       "      <th></th>\n",
       "      <th>Followers</th>\n",
       "      <th>avg_idf</th>\n",
       "      <th>length_hashtags</th>\n",
       "      <th>length_caption</th>\n",
       "      <th>text_polarity</th>\n",
       "      <th>text_subjectivity</th>\n",
       "    </tr>\n",
       "  </thead>\n",
       "  <tbody>\n",
       "    <tr>\n",
       "      <th>1</th>\n",
       "      <td>6.779922</td>\n",
       "      <td>1.327407</td>\n",
       "      <td>3.332205</td>\n",
       "      <td>3.988984</td>\n",
       "      <td>-0.180000</td>\n",
       "      <td>0.530000</td>\n",
       "    </tr>\n",
       "    <tr>\n",
       "      <th>2</th>\n",
       "      <td>5.541264</td>\n",
       "      <td>1.117018</td>\n",
       "      <td>3.401197</td>\n",
       "      <td>4.574711</td>\n",
       "      <td>-0.111111</td>\n",
       "      <td>0.318519</td>\n",
       "    </tr>\n",
       "    <tr>\n",
       "      <th>3</th>\n",
       "      <td>5.828946</td>\n",
       "      <td>1.232059</td>\n",
       "      <td>3.401197</td>\n",
       "      <td>0.693147</td>\n",
       "      <td>0.000000</td>\n",
       "      <td>0.000000</td>\n",
       "    </tr>\n",
       "    <tr>\n",
       "      <th>4</th>\n",
       "      <td>5.717028</td>\n",
       "      <td>1.084596</td>\n",
       "      <td>3.258097</td>\n",
       "      <td>3.465736</td>\n",
       "      <td>0.333333</td>\n",
       "      <td>0.508333</td>\n",
       "    </tr>\n",
       "    <tr>\n",
       "      <th>5</th>\n",
       "      <td>7.115582</td>\n",
       "      <td>1.204908</td>\n",
       "      <td>3.218876</td>\n",
       "      <td>3.367296</td>\n",
       "      <td>0.100000</td>\n",
       "      <td>0.380952</td>\n",
       "    </tr>\n",
       "  </tbody>\n",
       "</table>\n",
       "</div>"
      ],
      "text/plain": [
       "   Followers   avg_idf  length_hashtags  length_caption  text_polarity  \\\n",
       "1   6.779922  1.327407         3.332205        3.988984      -0.180000   \n",
       "2   5.541264  1.117018         3.401197        4.574711      -0.111111   \n",
       "3   5.828946  1.232059         3.401197        0.693147       0.000000   \n",
       "4   5.717028  1.084596         3.258097        3.465736       0.333333   \n",
       "5   7.115582  1.204908         3.218876        3.367296       0.100000   \n",
       "\n",
       "   text_subjectivity  \n",
       "1           0.530000  \n",
       "2           0.318519  \n",
       "3           0.000000  \n",
       "4           0.508333  \n",
       "5           0.380952  "
      ]
     },
     "execution_count": 80,
     "metadata": {},
     "output_type": "execute_result"
    }
   ],
   "source": [
    "X.head()"
   ]
  },
  {
   "cell_type": "code",
   "execution_count": 81,
   "id": "a9567f32",
   "metadata": {},
   "outputs": [
    {
     "data": {
      "text/plain": [
       "1    3.135494\n",
       "2    3.218876\n",
       "3    3.891820\n",
       "4    3.401197\n",
       "5    2.890372\n",
       "Name: Likes, dtype: float64"
      ]
     },
     "execution_count": 81,
     "metadata": {},
     "output_type": "execute_result"
    }
   ],
   "source": [
    "y.head()"
   ]
  },
  {
   "cell_type": "code",
   "execution_count": 82,
   "id": "1c56d538",
   "metadata": {},
   "outputs": [
    {
     "data": {
      "text/plain": [
       "(73, 6)"
      ]
     },
     "execution_count": 82,
     "metadata": {},
     "output_type": "execute_result"
    }
   ],
   "source": [
    "X.shape"
   ]
  },
  {
   "cell_type": "code",
   "execution_count": 83,
   "id": "6b547e74",
   "metadata": {},
   "outputs": [
    {
     "data": {
      "text/plain": [
       "(73,)"
      ]
     },
     "execution_count": 83,
     "metadata": {},
     "output_type": "execute_result"
    }
   ],
   "source": [
    "y.shape"
   ]
  },
  {
   "cell_type": "code",
   "execution_count": 84,
   "id": "7c021cac",
   "metadata": {},
   "outputs": [],
   "source": [
    "numfeat = [item for item in X.columns if X[item].dtypes != 'O']"
   ]
  },
  {
   "cell_type": "code",
   "execution_count": 85,
   "id": "6efbbb37",
   "metadata": {},
   "outputs": [
    {
     "data": {
      "text/plain": [
       "['Followers',\n",
       " 'avg_idf',\n",
       " 'length_hashtags',\n",
       " 'length_caption',\n",
       " 'text_polarity',\n",
       " 'text_subjectivity']"
      ]
     },
     "execution_count": 85,
     "metadata": {},
     "output_type": "execute_result"
    }
   ],
   "source": [
    "numfeat"
   ]
  },
  {
   "cell_type": "code",
   "execution_count": 86,
   "id": "19f3b685",
   "metadata": {},
   "outputs": [],
   "source": [
    "from sklearn.model_selection import  train_test_split"
   ]
  },
  {
   "cell_type": "code",
   "execution_count": 87,
   "id": "442a07aa",
   "metadata": {},
   "outputs": [],
   "source": [
    "X_train, X_test, y_train, y_test = train_test_split(X, y, test_size=0.2, random_state=42)"
   ]
  },
  {
   "cell_type": "code",
   "execution_count": 88,
   "id": "8d0982f1",
   "metadata": {},
   "outputs": [
    {
     "name": "stdout",
     "output_type": "stream",
     "text": [
      "Shape X train : (58, 6), Shape y train : (58,)\n",
      "Shape X train : (15, 6), Shape y train : (15,)\n"
     ]
    }
   ],
   "source": [
    "print(f'Shape X train : {X_train.shape}, Shape y train : {y_train.shape}')\n",
    "print(f'Shape X train : {X_test.shape}, Shape y train : {y_test.shape}')\n"
   ]
  },
  {
   "cell_type": "code",
   "execution_count": 89,
   "id": "17db43aa",
   "metadata": {},
   "outputs": [],
   "source": [
    "from sklearn.impute import SimpleImputer\n",
    "from sklearn.preprocessing import StandardScaler, MinMaxScaler, RobustScaler\n",
    "from sklearn.preprocessing import OneHotEncoder\n",
    "from sklearn.pipeline import Pipeline\n",
    "from sklearn.compose import ColumnTransformer"
   ]
  },
  {
   "cell_type": "code",
   "execution_count": 90,
   "id": "2523b2b7",
   "metadata": {},
   "outputs": [
    {
     "data": {
      "text/plain": [
       "\"\\n# model and pipeline\\n\\n#pipeline \\n\\nnum_pipeline = Pipeline(steps = [#('imputer', SimpleImputer(strategy='median')), \\n                                 ('scaler', StandardScaler())\\n                                 ])\\n    \\n\\ntext_pipeline = Pipeline(steps= [#('imputer', SimpleImputer(strategy='most_frequent')), \\n                                ('vectorizer', TfidfVectorizer(stop_words='english', analyzer='word')) \\n                                #('scaler',StandardScaler())\\n                                ])\\n\\n# preprocessor \\n\\npreprocessor = ColumnTransformer([\\n    ('num_pipeline', num_pipeline, numfeat[:-1])#, \\n    #('text_pipeline', text_pipeline, textfeat)\\n])\\n\""
      ]
     },
     "execution_count": 90,
     "metadata": {},
     "output_type": "execute_result"
    }
   ],
   "source": [
    "\"\"\"\n",
    "# model and pipeline\n",
    "\n",
    "#pipeline \n",
    "\n",
    "num_pipeline = Pipeline(steps = [#('imputer', SimpleImputer(strategy='median')), \n",
    "                                 ('scaler', StandardScaler())\n",
    "                                 ])\n",
    "    \n",
    "\n",
    "text_pipeline = Pipeline(steps= [#('imputer', SimpleImputer(strategy='most_frequent')), \n",
    "                                ('vectorizer', TfidfVectorizer(stop_words='english', analyzer='word')) \n",
    "                                #('scaler',StandardScaler())\n",
    "                                ])\n",
    "\n",
    "# preprocessor \n",
    "\n",
    "preprocessor = ColumnTransformer([\n",
    "    ('num_pipeline', num_pipeline, numfeat[:-1])#, \n",
    "    #('text_pipeline', text_pipeline, textfeat)\n",
    "])\n",
    "\"\"\"\n",
    "\n"
   ]
  },
  {
   "cell_type": "code",
   "execution_count": 91,
   "id": "fd642c94",
   "metadata": {},
   "outputs": [
    {
     "data": {
      "text/html": [
       "<div>\n",
       "<style scoped>\n",
       "    .dataframe tbody tr th:only-of-type {\n",
       "        vertical-align: middle;\n",
       "    }\n",
       "\n",
       "    .dataframe tbody tr th {\n",
       "        vertical-align: top;\n",
       "    }\n",
       "\n",
       "    .dataframe thead th {\n",
       "        text-align: right;\n",
       "    }\n",
       "</style>\n",
       "<table border=\"1\" class=\"dataframe\">\n",
       "  <thead>\n",
       "    <tr style=\"text-align: right;\">\n",
       "      <th></th>\n",
       "      <th>Followers</th>\n",
       "      <th>avg_idf</th>\n",
       "      <th>length_hashtags</th>\n",
       "      <th>length_caption</th>\n",
       "      <th>text_polarity</th>\n",
       "      <th>text_subjectivity</th>\n",
       "    </tr>\n",
       "  </thead>\n",
       "  <tbody>\n",
       "    <tr>\n",
       "      <th>29</th>\n",
       "      <td>5.631212</td>\n",
       "      <td>1.265491</td>\n",
       "      <td>3.401197</td>\n",
       "      <td>2.302585</td>\n",
       "      <td>-0.175000</td>\n",
       "      <td>1.000000</td>\n",
       "    </tr>\n",
       "    <tr>\n",
       "      <th>80</th>\n",
       "      <td>4.941642</td>\n",
       "      <td>1.359295</td>\n",
       "      <td>3.401197</td>\n",
       "      <td>2.302585</td>\n",
       "      <td>0.700000</td>\n",
       "      <td>0.600000</td>\n",
       "    </tr>\n",
       "    <tr>\n",
       "      <th>70</th>\n",
       "      <td>7.090077</td>\n",
       "      <td>1.350984</td>\n",
       "      <td>2.302585</td>\n",
       "      <td>0.693147</td>\n",
       "      <td>0.800000</td>\n",
       "      <td>0.750000</td>\n",
       "    </tr>\n",
       "    <tr>\n",
       "      <th>44</th>\n",
       "      <td>4.770685</td>\n",
       "      <td>1.393560</td>\n",
       "      <td>2.302585</td>\n",
       "      <td>2.397895</td>\n",
       "      <td>0.000000</td>\n",
       "      <td>0.000000</td>\n",
       "    </tr>\n",
       "    <tr>\n",
       "      <th>56</th>\n",
       "      <td>6.272877</td>\n",
       "      <td>1.240416</td>\n",
       "      <td>3.401197</td>\n",
       "      <td>3.784190</td>\n",
       "      <td>-0.132727</td>\n",
       "      <td>0.690909</td>\n",
       "    </tr>\n",
       "  </tbody>\n",
       "</table>\n",
       "</div>"
      ],
      "text/plain": [
       "    Followers   avg_idf  length_hashtags  length_caption  text_polarity  \\\n",
       "29   5.631212  1.265491         3.401197        2.302585      -0.175000   \n",
       "80   4.941642  1.359295         3.401197        2.302585       0.700000   \n",
       "70   7.090077  1.350984         2.302585        0.693147       0.800000   \n",
       "44   4.770685  1.393560         2.302585        2.397895       0.000000   \n",
       "56   6.272877  1.240416         3.401197        3.784190      -0.132727   \n",
       "\n",
       "    text_subjectivity  \n",
       "29           1.000000  \n",
       "80           0.600000  \n",
       "70           0.750000  \n",
       "44           0.000000  \n",
       "56           0.690909  "
      ]
     },
     "execution_count": 91,
     "metadata": {},
     "output_type": "execute_result"
    }
   ],
   "source": [
    "X_train.head()"
   ]
  },
  {
   "cell_type": "code",
   "execution_count": 92,
   "id": "d7de9481",
   "metadata": {},
   "outputs": [],
   "source": [
    "#X_train_scaled = pd.DataFrame(preprocessor.fit_transform(X_train))\n",
    "#X_test_scaled = pd.DataFrame(preprocessor.transform(X_test))"
   ]
  },
  {
   "cell_type": "code",
   "execution_count": 93,
   "id": "10e18ad4",
   "metadata": {},
   "outputs": [],
   "source": [
    "from sklearn.linear_model import LinearRegression\n",
    "from sklearn.neighbors import KNeighborsRegressor\n",
    "from sklearn.linear_model import Lasso\n",
    "from sklearn.linear_model import Ridge\n",
    "from sklearn.svm import SVR\n",
    "from sklearn.ensemble import RandomForestRegressor\n",
    "from sklearn.tree import DecisionTreeRegressor\n",
    "from sklearn.ensemble import GradientBoostingRegressor\n",
    "#from sklearn."
   ]
  },
  {
   "cell_type": "code",
   "execution_count": 94,
   "id": "ab1b4955",
   "metadata": {},
   "outputs": [],
   "source": [
    "from sklearn.metrics import mean_absolute_error, mean_squared_error, r2_score"
   ]
  },
  {
   "cell_type": "code",
   "execution_count": 95,
   "id": "9128b9f5",
   "metadata": {},
   "outputs": [],
   "source": [
    "def evaluate_model(true, predicted):\n",
    "    mae = mean_absolute_error(true, predicted)\n",
    "    mse = mean_squared_error(true, predicted)\n",
    "    rmse = np.sqrt(mean_squared_error(true, predicted))\n",
    "    r2_square = r2_score(true, predicted)\n",
    "    return mae, mse, rmse, r2_square"
   ]
  },
  {
   "cell_type": "code",
   "execution_count": 96,
   "id": "ae316048",
   "metadata": {},
   "outputs": [
    {
     "name": "stdout",
     "output_type": "stream",
     "text": [
      "LinearRegression\n",
      "Model Training Performance\n",
      "RMSE: 17.661416759829358\n",
      "MSE 311.9256419643814\n",
      "MAE: 15.528575243298887\n",
      "R2 score -0.41367420219122963\n",
      "===================================\n",
      "\n",
      "\n",
      "Lasso\n",
      "Model Training Performance\n",
      "RMSE: 15.253636160742646\n",
      "MSE 232.67341612431565\n",
      "MAE: 12.90673155618833\n",
      "R2 score -0.05449620569574587\n",
      "===================================\n",
      "\n",
      "\n",
      "Ridge\n",
      "Model Training Performance\n",
      "RMSE: 17.471263042627537\n",
      "MSE 305.24503230468287\n",
      "MAE: 15.27530441985568\n",
      "R2 score -0.38339709681653344\n",
      "===================================\n",
      "\n",
      "\n",
      "KNeighborsRegression\n",
      "Model Training Performance\n",
      "RMSE: 16.197060797696135\n",
      "MSE 262.344778484265\n",
      "MAE: 13.587230866083424\n",
      "R2 score -0.18896940657776296\n",
      "===================================\n",
      "\n",
      "\n",
      "SVR\n",
      "Model Training Performance\n",
      "RMSE: 17.167295166036375\n",
      "MSE 294.71602331781594\n",
      "MAE: 15.055239004996416\n",
      "R2 score -0.3356787101983758\n",
      "===================================\n",
      "\n",
      "\n",
      "DecisionTree\n",
      "Model Training Performance\n",
      "RMSE: 22.696548930031923\n",
      "MSE 515.1333333333332\n",
      "MAE: 15.400000000000002\n",
      "R2 score -1.3346291745558543\n",
      "===================================\n",
      "\n",
      "\n",
      "RandomForestRegressor\n",
      "Model Training Performance\n",
      "RMSE: 17.19642881226958\n",
      "MSE 295.71716389545537\n",
      "MAE: 15.11243792290342\n",
      "R2 score -0.3402159665728848\n",
      "===================================\n",
      "\n",
      "\n"
     ]
    }
   ],
   "source": [
    "models={\n",
    "    'LinearRegression':LinearRegression(),\n",
    "    'Lasso' : Lasso(), \n",
    "    'Ridge' : Ridge(),\n",
    "    'KNeighborsRegression':KNeighborsRegressor(),\n",
    "    'SVR':SVR(),\n",
    "    'DecisionTree' : DecisionTreeRegressor(),\n",
    "    'RandomForestRegressor':RandomForestRegressor(),\n",
    "}\n",
    "\n",
    "trained_model_list=[]\n",
    "model_list=[]\n",
    "pred_list = list()\n",
    "r2_list=[]\n",
    "\n",
    "for i in range(len(list(models))):\n",
    "    model=list(models.values())[i]\n",
    "    model.fit(X_train,y_train)\n",
    "\n",
    "    #Make Predictions\n",
    "    y_pred=model.predict(X_test)\n",
    "\n",
    "    mae, mse, rmse, r2_square=evaluate_model(np.exp(y_test),np.exp(y_pred))\n",
    "\n",
    "    print(list(models.keys())[i])\n",
    "    model_list.append(list(models.keys())[i])\n",
    "    pred_list.append(y_pred)\n",
    "    print('Model Training Performance')\n",
    "    print(\"RMSE:\",rmse)\n",
    "    print(\"MSE\", mse)\n",
    "    print(\"MAE:\",mae)\n",
    "    print(\"R2 score\",r2_square)\n",
    "\n",
    "    r2_list.append(r2_square)\n",
    "    \n",
    "    print('='*35)\n",
    "    print('\\n')"
   ]
  },
  {
   "cell_type": "code",
   "execution_count": 97,
   "id": "ef809b9c",
   "metadata": {},
   "outputs": [
    {
     "data": {
      "image/png": "[encoded data removed]",
      "text/plain": [
       "<Figure size 1440x864 with 8 Axes>"
      ]
     },
     "metadata": {
      "needs_background": "light"
     },
     "output_type": "display_data"
    }
   ],
   "source": [
    "fig, axes = plt.subplots(2,4, figsize=(20,12) )\n",
    "si = [[0,0], [0,1], [0,2], [0,3], [1,0], [1,1], [1,2],[1,3] ]\n",
    "\n",
    "for items in range(0, len(model_list)): \n",
    "    i = si[items][0]\n",
    "    j = si[items][1]\n",
    "    sns.lineplot(np.exp(y_test), np.exp(y_test), color = 'blue', legend = True, ax=axes[i,j])\n",
    "    sns.scatterplot(np.exp(y_test), np.exp(pred_list[items]), color = 'lightcoral', legend = True, ax=axes[i,j])\n",
    "    axes[i,j].set_title(model_list[items])    \n",
    "    #axes[i,j].set_xlabel('rom y test)')\n",
    "    #axes[i,j].set_ylabel(f'FWI (from {lnames[items]})')\n",
    "    #axes[i,j].legend(['y_test', lnames[items] ])\n",
    "    \n",
    "    \n",
    "plt.show()"
   ]
  },
  {
   "cell_type": "code",
   "execution_count": 98,
   "id": "55f29971",
   "metadata": {},
   "outputs": [
    {
     "data": {
      "image/png": "[encoded data removed]",
      "text/plain": [
       "<Figure size 1440x864 with 8 Axes>"
      ]
     },
     "metadata": {
      "needs_background": "light"
     },
     "output_type": "display_data"
    }
   ],
   "source": [
    "fig, axes = plt.subplots(2,4, figsize=(20,12) )\n",
    "si = [[0,0], [0,1], [0,2], [0,3], [1,0], [1,1], [1,2],[1,3] ]\n",
    "\n",
    "for items in range(0, len(model_list)): \n",
    "    i = si[items][0]\n",
    "    j = si[items][1]\n",
    "    #sns.lineplot(y_test, y_test, color = 'blue', legend = True, ax=axes[i,j])\n",
    "    sns.distplot(np.exp(y_test) - np.exp(pred_list[items]), ax=axes[i,j])\n",
    "    axes[i,j].set_title(model_list[items])    \n",
    "    \n",
    "plt.show()"
   ]
  },
  {
   "cell_type": "markdown",
   "id": "011985b1",
   "metadata": {},
   "source": [
    "## Comments and Discussions \n",
    "\n",
    "- As we have already done the log transformation, we are not transforming out data any more. \n",
    "\n",
    "- The analysis was done with and without outliers, and it is found that removing outliers decrease the metric values. \n",
    "\n",
    "- Ofcourse, the result does not seem very good, the metric values are high, $R^2$ has a negative value. But one need to also consider that the data set it very small and number of features are also small, which may lead to negative $R^2$ values.  \n",
    "\n",
    "- Among all the models, KNN does better job. \n",
    "\n",
    "- While finding the residual, we have taken care of the inverse transformation. i.e. Initially the features were log transformed. After modelling while comparing, we have done inverse log transformation.  "
   ]
  },
  {
   "cell_type": "code",
   "execution_count": null,
   "id": "dd0c50c6",
   "metadata": {},
   "outputs": [],
   "source": []
  },
  {
   "cell_type": "code",
   "execution_count": null,
   "id": "b3c90afa",
   "metadata": {},
   "outputs": [],
   "source": []
  }
 ],
 "metadata": {
  "kernelspec": {
   "display_name": "Python 3",
   "language": "python",
   "name": "python3"
  },
  "language_info": {
   "codemirror_mode": {
    "name": "ipython",
    "version": 3
   },
   "file_extension": ".py",
   "mimetype": "text/x-python",
   "name": "python",
   "nbconvert_exporter": "python",
   "pygments_lexer": "ipython3",
   "version": "3.8.8"
  }
 },
 "nbformat": 4,
 "nbformat_minor": 5
}
